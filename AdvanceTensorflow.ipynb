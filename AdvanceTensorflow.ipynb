{
  "nbformat": 4,
  "nbformat_minor": 0,
  "metadata": {
    "colab": {
      "provenance": [],
      "authorship_tag": "ABX9TyOkSVY61LxU3jLoJm7UrV0t",
      "include_colab_link": true
    },
    "kernelspec": {
      "name": "python3",
      "display_name": "Python 3"
    },
    "language_info": {
      "name": "python"
    }
  },
  "cells": [
    {
      "cell_type": "markdown",
      "metadata": {
        "id": "view-in-github",
        "colab_type": "text"
      },
      "source": [
        "<a href=\"https://colab.research.google.com/github/Syed-MuhammadTaha/AdvTensorFlowPractice/blob/main/AdvanceTensorflow.ipynb\" target=\"_parent\"><img src=\"https://colab.research.google.com/assets/colab-badge.svg\" alt=\"Open In Colab\"/></a>"
      ]
    },
    {
      "cell_type": "markdown",
      "source": [
        "## Functional API with multiple inputs (Siamese Network)"
      ],
      "metadata": {
        "id": "HQMSstzVAQJR"
      }
    },
    {
      "cell_type": "code",
      "execution_count": 1,
      "metadata": {
        "id": "TsIIXuEXBzR2"
      },
      "outputs": [],
      "source": [
        "import tensorflow as tf\n",
        "from tensorflow import keras\n",
        "from tensorflow.keras import layers\n",
        "import numpy as np"
      ]
    },
    {
      "cell_type": "code",
      "source": [
        "def base_network():\n",
        "  input = keras.Input(shape=(28,28,))\n",
        "  x = layers.Flatten()(input)\n",
        "  x = layers.Dense(128, activation='relu')(x)\n",
        "  x = layers.Dropout(0.1)(x)\n",
        "  x = layers.Dense(128, activation='relu')(x)\n",
        "  x = layers.Dropout(0.1)(x)\n",
        "  x = layers.Dense(128, activation='relu')(x)\n",
        "  return keras.Model(inputs=input, outputs=x)"
      ],
      "metadata": {
        "id": "Usx2vyVVAlOh"
      },
      "execution_count": 2,
      "outputs": []
    },
    {
      "cell_type": "code",
      "source": [
        "base = base_network()\n",
        "base.summary()"
      ],
      "metadata": {
        "colab": {
          "base_uri": "https://localhost:8080/",
          "height": 353
        },
        "id": "jRD0WBB7A29K",
        "outputId": "a4f8b9e8-307e-4d90-81ef-c505853fd71f"
      },
      "execution_count": 3,
      "outputs": [
        {
          "output_type": "display_data",
          "data": {
            "text/plain": [
              "\u001b[1mModel: \"functional\"\u001b[0m\n"
            ],
            "text/html": [
              "<pre style=\"white-space:pre;overflow-x:auto;line-height:normal;font-family:Menlo,'DejaVu Sans Mono',consolas,'Courier New',monospace\"><span style=\"font-weight: bold\">Model: \"functional\"</span>\n",
              "</pre>\n"
            ]
          },
          "metadata": {}
        },
        {
          "output_type": "display_data",
          "data": {
            "text/plain": [
              "┏━━━━━━━━━━━━━━━━━━━━━━━━━━━━━━━━━━━━━━┳━━━━━━━━━━━━━━━━━━━━━━━━━━━━━┳━━━━━━━━━━━━━━━━━┓\n",
              "┃\u001b[1m \u001b[0m\u001b[1mLayer (type)                        \u001b[0m\u001b[1m \u001b[0m┃\u001b[1m \u001b[0m\u001b[1mOutput Shape               \u001b[0m\u001b[1m \u001b[0m┃\u001b[1m \u001b[0m\u001b[1m        Param #\u001b[0m\u001b[1m \u001b[0m┃\n",
              "┡━━━━━━━━━━━━━━━━━━━━━━━━━━━━━━━━━━━━━━╇━━━━━━━━━━━━━━━━━━━━━━━━━━━━━╇━━━━━━━━━━━━━━━━━┩\n",
              "│ input_layer (\u001b[38;5;33mInputLayer\u001b[0m)             │ (\u001b[38;5;45mNone\u001b[0m, \u001b[38;5;34m28\u001b[0m, \u001b[38;5;34m28\u001b[0m)              │               \u001b[38;5;34m0\u001b[0m │\n",
              "├──────────────────────────────────────┼─────────────────────────────┼─────────────────┤\n",
              "│ flatten (\u001b[38;5;33mFlatten\u001b[0m)                    │ (\u001b[38;5;45mNone\u001b[0m, \u001b[38;5;34m784\u001b[0m)                 │               \u001b[38;5;34m0\u001b[0m │\n",
              "├──────────────────────────────────────┼─────────────────────────────┼─────────────────┤\n",
              "│ dense (\u001b[38;5;33mDense\u001b[0m)                        │ (\u001b[38;5;45mNone\u001b[0m, \u001b[38;5;34m128\u001b[0m)                 │         \u001b[38;5;34m100,480\u001b[0m │\n",
              "├──────────────────────────────────────┼─────────────────────────────┼─────────────────┤\n",
              "│ dropout (\u001b[38;5;33mDropout\u001b[0m)                    │ (\u001b[38;5;45mNone\u001b[0m, \u001b[38;5;34m128\u001b[0m)                 │               \u001b[38;5;34m0\u001b[0m │\n",
              "├──────────────────────────────────────┼─────────────────────────────┼─────────────────┤\n",
              "│ dense_1 (\u001b[38;5;33mDense\u001b[0m)                      │ (\u001b[38;5;45mNone\u001b[0m, \u001b[38;5;34m128\u001b[0m)                 │          \u001b[38;5;34m16,512\u001b[0m │\n",
              "├──────────────────────────────────────┼─────────────────────────────┼─────────────────┤\n",
              "│ dropout_1 (\u001b[38;5;33mDropout\u001b[0m)                  │ (\u001b[38;5;45mNone\u001b[0m, \u001b[38;5;34m128\u001b[0m)                 │               \u001b[38;5;34m0\u001b[0m │\n",
              "├──────────────────────────────────────┼─────────────────────────────┼─────────────────┤\n",
              "│ dense_2 (\u001b[38;5;33mDense\u001b[0m)                      │ (\u001b[38;5;45mNone\u001b[0m, \u001b[38;5;34m128\u001b[0m)                 │          \u001b[38;5;34m16,512\u001b[0m │\n",
              "└──────────────────────────────────────┴─────────────────────────────┴─────────────────┘\n"
            ],
            "text/html": [
              "<pre style=\"white-space:pre;overflow-x:auto;line-height:normal;font-family:Menlo,'DejaVu Sans Mono',consolas,'Courier New',monospace\">┏━━━━━━━━━━━━━━━━━━━━━━━━━━━━━━━━━━━━━━┳━━━━━━━━━━━━━━━━━━━━━━━━━━━━━┳━━━━━━━━━━━━━━━━━┓\n",
              "┃<span style=\"font-weight: bold\"> Layer (type)                         </span>┃<span style=\"font-weight: bold\"> Output Shape                </span>┃<span style=\"font-weight: bold\">         Param # </span>┃\n",
              "┡━━━━━━━━━━━━━━━━━━━━━━━━━━━━━━━━━━━━━━╇━━━━━━━━━━━━━━━━━━━━━━━━━━━━━╇━━━━━━━━━━━━━━━━━┩\n",
              "│ input_layer (<span style=\"color: #0087ff; text-decoration-color: #0087ff\">InputLayer</span>)             │ (<span style=\"color: #00d7ff; text-decoration-color: #00d7ff\">None</span>, <span style=\"color: #00af00; text-decoration-color: #00af00\">28</span>, <span style=\"color: #00af00; text-decoration-color: #00af00\">28</span>)              │               <span style=\"color: #00af00; text-decoration-color: #00af00\">0</span> │\n",
              "├──────────────────────────────────────┼─────────────────────────────┼─────────────────┤\n",
              "│ flatten (<span style=\"color: #0087ff; text-decoration-color: #0087ff\">Flatten</span>)                    │ (<span style=\"color: #00d7ff; text-decoration-color: #00d7ff\">None</span>, <span style=\"color: #00af00; text-decoration-color: #00af00\">784</span>)                 │               <span style=\"color: #00af00; text-decoration-color: #00af00\">0</span> │\n",
              "├──────────────────────────────────────┼─────────────────────────────┼─────────────────┤\n",
              "│ dense (<span style=\"color: #0087ff; text-decoration-color: #0087ff\">Dense</span>)                        │ (<span style=\"color: #00d7ff; text-decoration-color: #00d7ff\">None</span>, <span style=\"color: #00af00; text-decoration-color: #00af00\">128</span>)                 │         <span style=\"color: #00af00; text-decoration-color: #00af00\">100,480</span> │\n",
              "├──────────────────────────────────────┼─────────────────────────────┼─────────────────┤\n",
              "│ dropout (<span style=\"color: #0087ff; text-decoration-color: #0087ff\">Dropout</span>)                    │ (<span style=\"color: #00d7ff; text-decoration-color: #00d7ff\">None</span>, <span style=\"color: #00af00; text-decoration-color: #00af00\">128</span>)                 │               <span style=\"color: #00af00; text-decoration-color: #00af00\">0</span> │\n",
              "├──────────────────────────────────────┼─────────────────────────────┼─────────────────┤\n",
              "│ dense_1 (<span style=\"color: #0087ff; text-decoration-color: #0087ff\">Dense</span>)                      │ (<span style=\"color: #00d7ff; text-decoration-color: #00d7ff\">None</span>, <span style=\"color: #00af00; text-decoration-color: #00af00\">128</span>)                 │          <span style=\"color: #00af00; text-decoration-color: #00af00\">16,512</span> │\n",
              "├──────────────────────────────────────┼─────────────────────────────┼─────────────────┤\n",
              "│ dropout_1 (<span style=\"color: #0087ff; text-decoration-color: #0087ff\">Dropout</span>)                  │ (<span style=\"color: #00d7ff; text-decoration-color: #00d7ff\">None</span>, <span style=\"color: #00af00; text-decoration-color: #00af00\">128</span>)                 │               <span style=\"color: #00af00; text-decoration-color: #00af00\">0</span> │\n",
              "├──────────────────────────────────────┼─────────────────────────────┼─────────────────┤\n",
              "│ dense_2 (<span style=\"color: #0087ff; text-decoration-color: #0087ff\">Dense</span>)                      │ (<span style=\"color: #00d7ff; text-decoration-color: #00d7ff\">None</span>, <span style=\"color: #00af00; text-decoration-color: #00af00\">128</span>)                 │          <span style=\"color: #00af00; text-decoration-color: #00af00\">16,512</span> │\n",
              "└──────────────────────────────────────┴─────────────────────────────┴─────────────────┘\n",
              "</pre>\n"
            ]
          },
          "metadata": {}
        },
        {
          "output_type": "display_data",
          "data": {
            "text/plain": [
              "\u001b[1m Total params: \u001b[0m\u001b[38;5;34m133,504\u001b[0m (521.50 KB)\n"
            ],
            "text/html": [
              "<pre style=\"white-space:pre;overflow-x:auto;line-height:normal;font-family:Menlo,'DejaVu Sans Mono',consolas,'Courier New',monospace\"><span style=\"font-weight: bold\"> Total params: </span><span style=\"color: #00af00; text-decoration-color: #00af00\">133,504</span> (521.50 KB)\n",
              "</pre>\n"
            ]
          },
          "metadata": {}
        },
        {
          "output_type": "display_data",
          "data": {
            "text/plain": [
              "\u001b[1m Trainable params: \u001b[0m\u001b[38;5;34m133,504\u001b[0m (521.50 KB)\n"
            ],
            "text/html": [
              "<pre style=\"white-space:pre;overflow-x:auto;line-height:normal;font-family:Menlo,'DejaVu Sans Mono',consolas,'Courier New',monospace\"><span style=\"font-weight: bold\"> Trainable params: </span><span style=\"color: #00af00; text-decoration-color: #00af00\">133,504</span> (521.50 KB)\n",
              "</pre>\n"
            ]
          },
          "metadata": {}
        },
        {
          "output_type": "display_data",
          "data": {
            "text/plain": [
              "\u001b[1m Non-trainable params: \u001b[0m\u001b[38;5;34m0\u001b[0m (0.00 B)\n"
            ],
            "text/html": [
              "<pre style=\"white-space:pre;overflow-x:auto;line-height:normal;font-family:Menlo,'DejaVu Sans Mono',consolas,'Courier New',monospace\"><span style=\"font-weight: bold\"> Non-trainable params: </span><span style=\"color: #00af00; text-decoration-color: #00af00\">0</span> (0.00 B)\n",
              "</pre>\n"
            ]
          },
          "metadata": {}
        }
      ]
    },
    {
      "cell_type": "code",
      "source": [
        "input_1 = keras.Input(shape=(28,28,))\n",
        "input_2 = keras.Input(shape=(28,28,))\n",
        "\n",
        "vec_a = base(input_1)\n",
        "vec_b = base(input_2)\n",
        "\n"
      ],
      "metadata": {
        "id": "UmapUgFOA9XC"
      },
      "execution_count": 4,
      "outputs": []
    },
    {
      "cell_type": "code",
      "source": [
        "def euclidean_distance(vectors):\n",
        "  x,y = vectors\n",
        "  sum_square = tf.math.reduce_sum(tf.math.square(x-y), axis=1, keepdims=True)\n",
        "  return tf.math.sqrt(tf.math.maximum(sum_square, tf.keras.backend.epsilon()))\n",
        "\n",
        "def euclidean_shape(shape):\n",
        "  shape_a, shape_b = shape\n",
        "  return (shape_a[0], 1)"
      ],
      "metadata": {
        "id": "f0d_mEFrBoNS"
      },
      "execution_count": 5,
      "outputs": []
    },
    {
      "cell_type": "code",
      "source": [
        "output = layers.Lambda(euclidean_distance, output_shape=euclidean_shape)([vec_a, vec_b])"
      ],
      "metadata": {
        "id": "XxZXwHcYCV7l"
      },
      "execution_count": 6,
      "outputs": []
    },
    {
      "cell_type": "code",
      "source": [
        "model = keras.Model(inputs=[input_1, input_2], outputs=output)"
      ],
      "metadata": {
        "id": "rEjqwquiCeja"
      },
      "execution_count": 7,
      "outputs": []
    },
    {
      "cell_type": "code",
      "source": [
        "# contrastive loss is similar to the triplet loss but a supervised form where pairs of image are labelled 1 or 0 based on their similarity\n",
        "model.compile(loss=contrastive_loss_w_margin(margin=1), optimizer=\"adam\", metrics=[\"accuracy\"])"
      ],
      "metadata": {
        "id": "Dw7ALkH4DEaK"
      },
      "execution_count": 12,
      "outputs": []
    },
    {
      "cell_type": "markdown",
      "source": [
        "## Custom Loss"
      ],
      "metadata": {
        "id": "5eGFyGcjDmA_"
      }
    },
    {
      "cell_type": "code",
      "source": [
        "# contrastive fromula: Y * D^2 + (1-Y) * max(alpha - D, 0)\n",
        "# Triplet loss: max(euc_dist(A,P) - euc_dist(A,N) + alpha)\n",
        "def contrastive_loss(y_true, y_pred):\n",
        "  margin = 1\n",
        "  square_pred = tf.math.square(y_pred)\n",
        "  margin_square = tf.math.square(tf.math.maximum(margin - (y_pred), 0))\n",
        "  return ((y_true * square_pred) + (1 - y_true) * margin_square)"
      ],
      "metadata": {
        "id": "CAae5ohvDzNg"
      },
      "execution_count": 10,
      "outputs": []
    },
    {
      "cell_type": "code",
      "source": [
        "# with hyperparameter\n",
        "def contrastive_loss_w_margin(margin):\n",
        "  def contrastive_loss(y_true, y_pred):\n",
        "    square_pred = tf.math.square(y_pred)\n",
        "    margin_square = tf.math.square(tf.math.maximum(margin - (y_pred), 0))\n",
        "    return ((y_true * square_pred) + (1 - y_true) * margin_square)\n",
        "  return contrastive_loss"
      ],
      "metadata": {
        "id": "dDwndLxqI8Jo"
      },
      "execution_count": 11,
      "outputs": []
    },
    {
      "cell_type": "markdown",
      "source": [
        "## Custom Layers"
      ],
      "metadata": {
        "id": "u3rK5VUkKk5t"
      }
    },
    {
      "cell_type": "markdown",
      "source": [
        "**Lambda Layers**"
      ],
      "metadata": {
        "id": "OMNBaZ58LG2W"
      }
    },
    {
      "cell_type": "code",
      "source": [
        "def custom_relu(x):\n",
        "  return tf.math.maximum(0.0, x)"
      ],
      "metadata": {
        "id": "AA9OsTd3K70X"
      },
      "execution_count": 13,
      "outputs": []
    },
    {
      "cell_type": "code",
      "source": [
        "model = keras.Sequential([\n",
        "    layers.Flatten(input_shape=(28,28)),\n",
        "    layers.Lambda(custom_relu),\n",
        "    layers.Dropout(0.1),\n",
        "    layers.Dense(128, activation='relu'),\n",
        "])"
      ],
      "metadata": {
        "id": "D6MXRvOdKnBa"
      },
      "execution_count": 15,
      "outputs": []
    },
    {
      "cell_type": "markdown",
      "source": [
        "**Custom Layer Class**"
      ],
      "metadata": {
        "id": "NbDfDNfrLTYM"
      }
    },
    {
      "cell_type": "markdown",
      "source": [
        "Made up of *state* (weights) and *computation* (forward pass)"
      ],
      "metadata": {
        "id": "AQ3_ovSwLkoV"
      }
    },
    {
      "cell_type": "code",
      "source": [
        "class SimpleDense(layers.Layer):\n",
        "  # calling layer counstructor inherited by layers.Layer class which already has w and b instance variables\n",
        "  # adding units and activation instance variables to the constructor\n",
        "  def __init__(self, units=32, activation=None):\n",
        "    super(SimpleDense, self).__init__()\n",
        "    self.units = units\n",
        "    self.activation = tf.keras.activations.get(activation)\n",
        "  # all the code for setting w and b tensors\n",
        "  def build(self, input):\n",
        "    w_init = tf.keras.initializers.GlorotNormal()\n",
        "    b_init = tf.zeros_initializer()\n",
        "    self.w = tf.Variable(name=\"kernel\", initial_value = w_init(shape=(input.shape[-1], self.units), dtype=\"float32\"), trainable=True)\n",
        "    self.b = tf.Variable(name=\"bias\", initial_value = b_init(shape=(self.units,), dtype=\"float32\"), trainable=True)\n",
        "\n",
        "  # computation during forward pass\n",
        "  def call(self, input):\n",
        "    return self.activation(tf.matmul(input, self.w) + self.b)"
      ],
      "metadata": {
        "id": "YEcpyyqYLVZU"
      },
      "execution_count": null,
      "outputs": []
    },
    {
      "cell_type": "markdown",
      "source": [
        "## Custom Models"
      ],
      "metadata": {
        "id": "9_Eym9fsuzX9"
      }
    },
    {
      "cell_type": "code",
      "source": [
        "class WideandDeepModel(keras.Model):\n",
        "  def __init__(self, units=30, activation=\"relu\", **kwargs):\n",
        "    super().__init__(**kwargs)\n",
        "    self.hidden1 = layers.Dense(units, activation=activation)\n",
        "    self.hidden2 = layers.Dense(units, activation=activation)\n",
        "    self.main_output = layers.Dense(1)\n",
        "    self.aux_output = layers.Dense(1)\n",
        "  def call(self, inputs):\n",
        "    input_A, input_B = inputs\n",
        "    hidden1 = self.hidden1(input_B)\n",
        "    hidden2 = self.hidden2(hidden1)\n",
        "    concat = keras.layers.concatenate([input_A, hidden2])\n",
        "    main_output = self.main_output(concat)\n",
        "    aux_output = self.aux_output(hidden2)\n",
        "    return main_output, aux_output"
      ],
      "metadata": {
        "id": "iJr-gwXVu1v1"
      },
      "execution_count": null,
      "outputs": []
    },
    {
      "cell_type": "markdown",
      "source": [
        "### Custom Callbacks"
      ],
      "metadata": {
        "id": "MguX3bAL2ZJl"
      }
    },
    {
      "cell_type": "code",
      "source": [
        "class EarlyStopping(keras.callback.CallBack):\n",
        "  def __init__(self, patience=0):\n",
        "    super(EarlyStopping, self).__init__()\n",
        "    self.patience = patience\n",
        "  def on_epoch_end(self, epoch, logs=None):\n",
        "    if logs.get(\"accuracy\") > 0.99:\n",
        "      print(\"Reached 99% accuracy so cancelling training!\")\n",
        "      self.model.stop_training = True"
      ],
      "metadata": {
        "id": "zK5XEz3I2cQM"
      },
      "execution_count": null,
      "outputs": []
    }
  ]
}