{
  "nbformat": 4,
  "nbformat_minor": 0,
  "metadata": {
    "colab": {
      "provenance": [],
      "authorship_tag": "ABX9TyNQWdTCZ/coWDm5cFNmVd1C",
      "include_colab_link": true
    },
    "kernelspec": {
      "name": "python3",
      "display_name": "Python 3"
    },
    "language_info": {
      "name": "python"
    },
    "widgets": {
      "application/vnd.jupyter.widget-state+json": {
        "5a531920aa4a4151a7019f5926b03d24": {
          "model_module": "@jupyter-widgets/controls",
          "model_name": "HBoxModel",
          "model_module_version": "1.5.0",
          "state": {
            "_dom_classes": [],
            "_model_module": "@jupyter-widgets/controls",
            "_model_module_version": "1.5.0",
            "_model_name": "HBoxModel",
            "_view_count": null,
            "_view_module": "@jupyter-widgets/controls",
            "_view_module_version": "1.5.0",
            "_view_name": "HBoxView",
            "box_style": "",
            "children": [
              "IPY_MODEL_ae4598cadc2240828fe47eb4e2a5bc9a",
              "IPY_MODEL_cbf8425c1a514ea7bdefccf8445e770c",
              "IPY_MODEL_b1b2de10215a47fa88c340441a93ec24"
            ],
            "layout": "IPY_MODEL_bff28ecb897e43a99deb0cb16a9b1edc"
          }
        },
        "ae4598cadc2240828fe47eb4e2a5bc9a": {
          "model_module": "@jupyter-widgets/controls",
          "model_name": "HTMLModel",
          "model_module_version": "1.5.0",
          "state": {
            "_dom_classes": [],
            "_model_module": "@jupyter-widgets/controls",
            "_model_module_version": "1.5.0",
            "_model_name": "HTMLModel",
            "_view_count": null,
            "_view_module": "@jupyter-widgets/controls",
            "_view_module_version": "1.5.0",
            "_view_name": "HTMLView",
            "description": "",
            "description_tooltip": null,
            "layout": "IPY_MODEL_d0990af1cd4146528f02301f0a8a6ebf",
            "placeholder": "​",
            "style": "IPY_MODEL_9a84199e5df8469bafe33f6520e2e31f",
            "value": "Dl Completed...: 100%"
          }
        },
        "cbf8425c1a514ea7bdefccf8445e770c": {
          "model_module": "@jupyter-widgets/controls",
          "model_name": "FloatProgressModel",
          "model_module_version": "1.5.0",
          "state": {
            "_dom_classes": [],
            "_model_module": "@jupyter-widgets/controls",
            "_model_module_version": "1.5.0",
            "_model_name": "FloatProgressModel",
            "_view_count": null,
            "_view_module": "@jupyter-widgets/controls",
            "_view_module_version": "1.5.0",
            "_view_name": "ProgressView",
            "bar_style": "success",
            "description": "",
            "description_tooltip": null,
            "layout": "IPY_MODEL_fd98274a170240648534097afacec561",
            "max": 1,
            "min": 0,
            "orientation": "horizontal",
            "style": "IPY_MODEL_ee22a60ecbc0466d99fbd337d646b127",
            "value": 1
          }
        },
        "b1b2de10215a47fa88c340441a93ec24": {
          "model_module": "@jupyter-widgets/controls",
          "model_name": "HTMLModel",
          "model_module_version": "1.5.0",
          "state": {
            "_dom_classes": [],
            "_model_module": "@jupyter-widgets/controls",
            "_model_module_version": "1.5.0",
            "_model_name": "HTMLModel",
            "_view_count": null,
            "_view_module": "@jupyter-widgets/controls",
            "_view_module_version": "1.5.0",
            "_view_name": "HTMLView",
            "description": "",
            "description_tooltip": null,
            "layout": "IPY_MODEL_0576cd5610a74f2184b61decd2493dbb",
            "placeholder": "​",
            "style": "IPY_MODEL_87ae4bdc8bc44f24883e72a802c31f0f",
            "value": " 4/4 [00:00&lt;00:00, 32.99 url/s]"
          }
        },
        "bff28ecb897e43a99deb0cb16a9b1edc": {
          "model_module": "@jupyter-widgets/base",
          "model_name": "LayoutModel",
          "model_module_version": "1.2.0",
          "state": {
            "_model_module": "@jupyter-widgets/base",
            "_model_module_version": "1.2.0",
            "_model_name": "LayoutModel",
            "_view_count": null,
            "_view_module": "@jupyter-widgets/base",
            "_view_module_version": "1.2.0",
            "_view_name": "LayoutView",
            "align_content": null,
            "align_items": null,
            "align_self": null,
            "border": null,
            "bottom": null,
            "display": null,
            "flex": null,
            "flex_flow": null,
            "grid_area": null,
            "grid_auto_columns": null,
            "grid_auto_flow": null,
            "grid_auto_rows": null,
            "grid_column": null,
            "grid_gap": null,
            "grid_row": null,
            "grid_template_areas": null,
            "grid_template_columns": null,
            "grid_template_rows": null,
            "height": null,
            "justify_content": null,
            "justify_items": null,
            "left": null,
            "margin": null,
            "max_height": null,
            "max_width": null,
            "min_height": null,
            "min_width": null,
            "object_fit": null,
            "object_position": null,
            "order": null,
            "overflow": null,
            "overflow_x": null,
            "overflow_y": null,
            "padding": null,
            "right": null,
            "top": null,
            "visibility": null,
            "width": null
          }
        },
        "d0990af1cd4146528f02301f0a8a6ebf": {
          "model_module": "@jupyter-widgets/base",
          "model_name": "LayoutModel",
          "model_module_version": "1.2.0",
          "state": {
            "_model_module": "@jupyter-widgets/base",
            "_model_module_version": "1.2.0",
            "_model_name": "LayoutModel",
            "_view_count": null,
            "_view_module": "@jupyter-widgets/base",
            "_view_module_version": "1.2.0",
            "_view_name": "LayoutView",
            "align_content": null,
            "align_items": null,
            "align_self": null,
            "border": null,
            "bottom": null,
            "display": null,
            "flex": null,
            "flex_flow": null,
            "grid_area": null,
            "grid_auto_columns": null,
            "grid_auto_flow": null,
            "grid_auto_rows": null,
            "grid_column": null,
            "grid_gap": null,
            "grid_row": null,
            "grid_template_areas": null,
            "grid_template_columns": null,
            "grid_template_rows": null,
            "height": null,
            "justify_content": null,
            "justify_items": null,
            "left": null,
            "margin": null,
            "max_height": null,
            "max_width": null,
            "min_height": null,
            "min_width": null,
            "object_fit": null,
            "object_position": null,
            "order": null,
            "overflow": null,
            "overflow_x": null,
            "overflow_y": null,
            "padding": null,
            "right": null,
            "top": null,
            "visibility": null,
            "width": null
          }
        },
        "9a84199e5df8469bafe33f6520e2e31f": {
          "model_module": "@jupyter-widgets/controls",
          "model_name": "DescriptionStyleModel",
          "model_module_version": "1.5.0",
          "state": {
            "_model_module": "@jupyter-widgets/controls",
            "_model_module_version": "1.5.0",
            "_model_name": "DescriptionStyleModel",
            "_view_count": null,
            "_view_module": "@jupyter-widgets/base",
            "_view_module_version": "1.2.0",
            "_view_name": "StyleView",
            "description_width": ""
          }
        },
        "fd98274a170240648534097afacec561": {
          "model_module": "@jupyter-widgets/base",
          "model_name": "LayoutModel",
          "model_module_version": "1.2.0",
          "state": {
            "_model_module": "@jupyter-widgets/base",
            "_model_module_version": "1.2.0",
            "_model_name": "LayoutModel",
            "_view_count": null,
            "_view_module": "@jupyter-widgets/base",
            "_view_module_version": "1.2.0",
            "_view_name": "LayoutView",
            "align_content": null,
            "align_items": null,
            "align_self": null,
            "border": null,
            "bottom": null,
            "display": null,
            "flex": null,
            "flex_flow": null,
            "grid_area": null,
            "grid_auto_columns": null,
            "grid_auto_flow": null,
            "grid_auto_rows": null,
            "grid_column": null,
            "grid_gap": null,
            "grid_row": null,
            "grid_template_areas": null,
            "grid_template_columns": null,
            "grid_template_rows": null,
            "height": null,
            "justify_content": null,
            "justify_items": null,
            "left": null,
            "margin": null,
            "max_height": null,
            "max_width": null,
            "min_height": null,
            "min_width": null,
            "object_fit": null,
            "object_position": null,
            "order": null,
            "overflow": null,
            "overflow_x": null,
            "overflow_y": null,
            "padding": null,
            "right": null,
            "top": null,
            "visibility": null,
            "width": "20px"
          }
        },
        "ee22a60ecbc0466d99fbd337d646b127": {
          "model_module": "@jupyter-widgets/controls",
          "model_name": "ProgressStyleModel",
          "model_module_version": "1.5.0",
          "state": {
            "_model_module": "@jupyter-widgets/controls",
            "_model_module_version": "1.5.0",
            "_model_name": "ProgressStyleModel",
            "_view_count": null,
            "_view_module": "@jupyter-widgets/base",
            "_view_module_version": "1.2.0",
            "_view_name": "StyleView",
            "bar_color": null,
            "description_width": ""
          }
        },
        "0576cd5610a74f2184b61decd2493dbb": {
          "model_module": "@jupyter-widgets/base",
          "model_name": "LayoutModel",
          "model_module_version": "1.2.0",
          "state": {
            "_model_module": "@jupyter-widgets/base",
            "_model_module_version": "1.2.0",
            "_model_name": "LayoutModel",
            "_view_count": null,
            "_view_module": "@jupyter-widgets/base",
            "_view_module_version": "1.2.0",
            "_view_name": "LayoutView",
            "align_content": null,
            "align_items": null,
            "align_self": null,
            "border": null,
            "bottom": null,
            "display": null,
            "flex": null,
            "flex_flow": null,
            "grid_area": null,
            "grid_auto_columns": null,
            "grid_auto_flow": null,
            "grid_auto_rows": null,
            "grid_column": null,
            "grid_gap": null,
            "grid_row": null,
            "grid_template_areas": null,
            "grid_template_columns": null,
            "grid_template_rows": null,
            "height": null,
            "justify_content": null,
            "justify_items": null,
            "left": null,
            "margin": null,
            "max_height": null,
            "max_width": null,
            "min_height": null,
            "min_width": null,
            "object_fit": null,
            "object_position": null,
            "order": null,
            "overflow": null,
            "overflow_x": null,
            "overflow_y": null,
            "padding": null,
            "right": null,
            "top": null,
            "visibility": null,
            "width": null
          }
        },
        "87ae4bdc8bc44f24883e72a802c31f0f": {
          "model_module": "@jupyter-widgets/controls",
          "model_name": "DescriptionStyleModel",
          "model_module_version": "1.5.0",
          "state": {
            "_model_module": "@jupyter-widgets/controls",
            "_model_module_version": "1.5.0",
            "_model_name": "DescriptionStyleModel",
            "_view_count": null,
            "_view_module": "@jupyter-widgets/base",
            "_view_module_version": "1.2.0",
            "_view_name": "StyleView",
            "description_width": ""
          }
        },
        "e397a166669949cb9e5b55174db2d767": {
          "model_module": "@jupyter-widgets/controls",
          "model_name": "HBoxModel",
          "model_module_version": "1.5.0",
          "state": {
            "_dom_classes": [],
            "_model_module": "@jupyter-widgets/controls",
            "_model_module_version": "1.5.0",
            "_model_name": "HBoxModel",
            "_view_count": null,
            "_view_module": "@jupyter-widgets/controls",
            "_view_module_version": "1.5.0",
            "_view_name": "HBoxView",
            "box_style": "",
            "children": [
              "IPY_MODEL_fa72f18cd92f4daaadcf8761303de244",
              "IPY_MODEL_c5f06a09232548edaa50492da905f36c",
              "IPY_MODEL_554c6430022040429985c290833f2ed4"
            ],
            "layout": "IPY_MODEL_f0b65860e1a44a2ca400e2229e60df47"
          }
        },
        "fa72f18cd92f4daaadcf8761303de244": {
          "model_module": "@jupyter-widgets/controls",
          "model_name": "HTMLModel",
          "model_module_version": "1.5.0",
          "state": {
            "_dom_classes": [],
            "_model_module": "@jupyter-widgets/controls",
            "_model_module_version": "1.5.0",
            "_model_name": "HTMLModel",
            "_view_count": null,
            "_view_module": "@jupyter-widgets/controls",
            "_view_module_version": "1.5.0",
            "_view_name": "HTMLView",
            "description": "",
            "description_tooltip": null,
            "layout": "IPY_MODEL_dfdb1c6d0e2a440693b929db5969ff6b",
            "placeholder": "​",
            "style": "IPY_MODEL_9add4e99977e4575b8ee74e1fce8d10d",
            "value": "Dl Size...: 100%"
          }
        },
        "c5f06a09232548edaa50492da905f36c": {
          "model_module": "@jupyter-widgets/controls",
          "model_name": "FloatProgressModel",
          "model_module_version": "1.5.0",
          "state": {
            "_dom_classes": [],
            "_model_module": "@jupyter-widgets/controls",
            "_model_module_version": "1.5.0",
            "_model_name": "FloatProgressModel",
            "_view_count": null,
            "_view_module": "@jupyter-widgets/controls",
            "_view_module_version": "1.5.0",
            "_view_name": "ProgressView",
            "bar_style": "success",
            "description": "",
            "description_tooltip": null,
            "layout": "IPY_MODEL_64ce0bc8aab043ec91bda22c2c41fa30",
            "max": 1,
            "min": 0,
            "orientation": "horizontal",
            "style": "IPY_MODEL_3665eb2c3c9b437ebe72f01c8952f128",
            "value": 1
          }
        },
        "554c6430022040429985c290833f2ed4": {
          "model_module": "@jupyter-widgets/controls",
          "model_name": "HTMLModel",
          "model_module_version": "1.5.0",
          "state": {
            "_dom_classes": [],
            "_model_module": "@jupyter-widgets/controls",
            "_model_module_version": "1.5.0",
            "_model_name": "HTMLModel",
            "_view_count": null,
            "_view_module": "@jupyter-widgets/controls",
            "_view_module_version": "1.5.0",
            "_view_name": "HTMLView",
            "description": "",
            "description_tooltip": null,
            "layout": "IPY_MODEL_17fa8c03f9a34df7b8faf6f5463b630e",
            "placeholder": "​",
            "style": "IPY_MODEL_70574e5bf7ae40308f5520056c855f4a",
            "value": " 30878645/30878645 [00:00&lt;00:00, 326939391.02 MiB/s]"
          }
        },
        "f0b65860e1a44a2ca400e2229e60df47": {
          "model_module": "@jupyter-widgets/base",
          "model_name": "LayoutModel",
          "model_module_version": "1.2.0",
          "state": {
            "_model_module": "@jupyter-widgets/base",
            "_model_module_version": "1.2.0",
            "_model_name": "LayoutModel",
            "_view_count": null,
            "_view_module": "@jupyter-widgets/base",
            "_view_module_version": "1.2.0",
            "_view_name": "LayoutView",
            "align_content": null,
            "align_items": null,
            "align_self": null,
            "border": null,
            "bottom": null,
            "display": null,
            "flex": null,
            "flex_flow": null,
            "grid_area": null,
            "grid_auto_columns": null,
            "grid_auto_flow": null,
            "grid_auto_rows": null,
            "grid_column": null,
            "grid_gap": null,
            "grid_row": null,
            "grid_template_areas": null,
            "grid_template_columns": null,
            "grid_template_rows": null,
            "height": null,
            "justify_content": null,
            "justify_items": null,
            "left": null,
            "margin": null,
            "max_height": null,
            "max_width": null,
            "min_height": null,
            "min_width": null,
            "object_fit": null,
            "object_position": null,
            "order": null,
            "overflow": null,
            "overflow_x": null,
            "overflow_y": null,
            "padding": null,
            "right": null,
            "top": null,
            "visibility": null,
            "width": null
          }
        },
        "dfdb1c6d0e2a440693b929db5969ff6b": {
          "model_module": "@jupyter-widgets/base",
          "model_name": "LayoutModel",
          "model_module_version": "1.2.0",
          "state": {
            "_model_module": "@jupyter-widgets/base",
            "_model_module_version": "1.2.0",
            "_model_name": "LayoutModel",
            "_view_count": null,
            "_view_module": "@jupyter-widgets/base",
            "_view_module_version": "1.2.0",
            "_view_name": "LayoutView",
            "align_content": null,
            "align_items": null,
            "align_self": null,
            "border": null,
            "bottom": null,
            "display": null,
            "flex": null,
            "flex_flow": null,
            "grid_area": null,
            "grid_auto_columns": null,
            "grid_auto_flow": null,
            "grid_auto_rows": null,
            "grid_column": null,
            "grid_gap": null,
            "grid_row": null,
            "grid_template_areas": null,
            "grid_template_columns": null,
            "grid_template_rows": null,
            "height": null,
            "justify_content": null,
            "justify_items": null,
            "left": null,
            "margin": null,
            "max_height": null,
            "max_width": null,
            "min_height": null,
            "min_width": null,
            "object_fit": null,
            "object_position": null,
            "order": null,
            "overflow": null,
            "overflow_x": null,
            "overflow_y": null,
            "padding": null,
            "right": null,
            "top": null,
            "visibility": null,
            "width": null
          }
        },
        "9add4e99977e4575b8ee74e1fce8d10d": {
          "model_module": "@jupyter-widgets/controls",
          "model_name": "DescriptionStyleModel",
          "model_module_version": "1.5.0",
          "state": {
            "_model_module": "@jupyter-widgets/controls",
            "_model_module_version": "1.5.0",
            "_model_name": "DescriptionStyleModel",
            "_view_count": null,
            "_view_module": "@jupyter-widgets/base",
            "_view_module_version": "1.2.0",
            "_view_name": "StyleView",
            "description_width": ""
          }
        },
        "64ce0bc8aab043ec91bda22c2c41fa30": {
          "model_module": "@jupyter-widgets/base",
          "model_name": "LayoutModel",
          "model_module_version": "1.2.0",
          "state": {
            "_model_module": "@jupyter-widgets/base",
            "_model_module_version": "1.2.0",
            "_model_name": "LayoutModel",
            "_view_count": null,
            "_view_module": "@jupyter-widgets/base",
            "_view_module_version": "1.2.0",
            "_view_name": "LayoutView",
            "align_content": null,
            "align_items": null,
            "align_self": null,
            "border": null,
            "bottom": null,
            "display": null,
            "flex": null,
            "flex_flow": null,
            "grid_area": null,
            "grid_auto_columns": null,
            "grid_auto_flow": null,
            "grid_auto_rows": null,
            "grid_column": null,
            "grid_gap": null,
            "grid_row": null,
            "grid_template_areas": null,
            "grid_template_columns": null,
            "grid_template_rows": null,
            "height": null,
            "justify_content": null,
            "justify_items": null,
            "left": null,
            "margin": null,
            "max_height": null,
            "max_width": null,
            "min_height": null,
            "min_width": null,
            "object_fit": null,
            "object_position": null,
            "order": null,
            "overflow": null,
            "overflow_x": null,
            "overflow_y": null,
            "padding": null,
            "right": null,
            "top": null,
            "visibility": null,
            "width": "20px"
          }
        },
        "3665eb2c3c9b437ebe72f01c8952f128": {
          "model_module": "@jupyter-widgets/controls",
          "model_name": "ProgressStyleModel",
          "model_module_version": "1.5.0",
          "state": {
            "_model_module": "@jupyter-widgets/controls",
            "_model_module_version": "1.5.0",
            "_model_name": "ProgressStyleModel",
            "_view_count": null,
            "_view_module": "@jupyter-widgets/base",
            "_view_module_version": "1.2.0",
            "_view_name": "StyleView",
            "bar_color": null,
            "description_width": ""
          }
        },
        "17fa8c03f9a34df7b8faf6f5463b630e": {
          "model_module": "@jupyter-widgets/base",
          "model_name": "LayoutModel",
          "model_module_version": "1.2.0",
          "state": {
            "_model_module": "@jupyter-widgets/base",
            "_model_module_version": "1.2.0",
            "_model_name": "LayoutModel",
            "_view_count": null,
            "_view_module": "@jupyter-widgets/base",
            "_view_module_version": "1.2.0",
            "_view_name": "LayoutView",
            "align_content": null,
            "align_items": null,
            "align_self": null,
            "border": null,
            "bottom": null,
            "display": null,
            "flex": null,
            "flex_flow": null,
            "grid_area": null,
            "grid_auto_columns": null,
            "grid_auto_flow": null,
            "grid_auto_rows": null,
            "grid_column": null,
            "grid_gap": null,
            "grid_row": null,
            "grid_template_areas": null,
            "grid_template_columns": null,
            "grid_template_rows": null,
            "height": null,
            "justify_content": null,
            "justify_items": null,
            "left": null,
            "margin": null,
            "max_height": null,
            "max_width": null,
            "min_height": null,
            "min_width": null,
            "object_fit": null,
            "object_position": null,
            "order": null,
            "overflow": null,
            "overflow_x": null,
            "overflow_y": null,
            "padding": null,
            "right": null,
            "top": null,
            "visibility": null,
            "width": null
          }
        },
        "70574e5bf7ae40308f5520056c855f4a": {
          "model_module": "@jupyter-widgets/controls",
          "model_name": "DescriptionStyleModel",
          "model_module_version": "1.5.0",
          "state": {
            "_model_module": "@jupyter-widgets/controls",
            "_model_module_version": "1.5.0",
            "_model_name": "DescriptionStyleModel",
            "_view_count": null,
            "_view_module": "@jupyter-widgets/base",
            "_view_module_version": "1.2.0",
            "_view_name": "StyleView",
            "description_width": ""
          }
        },
        "d9a80e72c8da418aa7823474c0cd0a51": {
          "model_module": "@jupyter-widgets/controls",
          "model_name": "HBoxModel",
          "model_module_version": "1.5.0",
          "state": {
            "_dom_classes": [],
            "_model_module": "@jupyter-widgets/controls",
            "_model_module_version": "1.5.0",
            "_model_name": "HBoxModel",
            "_view_count": null,
            "_view_module": "@jupyter-widgets/controls",
            "_view_module_version": "1.5.0",
            "_view_name": "HBoxView",
            "box_style": "",
            "children": [
              "IPY_MODEL_07f2bf6c0e3843b89501ca42e0941ed4",
              "IPY_MODEL_5b43997d50164dd882bc357ee585992b",
              "IPY_MODEL_83ad91bdfe0a476598fcce6394a81ac8"
            ],
            "layout": "IPY_MODEL_d39edf81127a4b99bc7a8637be2e7f1b"
          }
        },
        "07f2bf6c0e3843b89501ca42e0941ed4": {
          "model_module": "@jupyter-widgets/controls",
          "model_name": "HTMLModel",
          "model_module_version": "1.5.0",
          "state": {
            "_dom_classes": [],
            "_model_module": "@jupyter-widgets/controls",
            "_model_module_version": "1.5.0",
            "_model_name": "HTMLModel",
            "_view_count": null,
            "_view_module": "@jupyter-widgets/controls",
            "_view_module_version": "1.5.0",
            "_view_name": "HTMLView",
            "description": "",
            "description_tooltip": null,
            "layout": "IPY_MODEL_c92ef86fdf344edbaf40b5c48dbb74be",
            "placeholder": "​",
            "style": "IPY_MODEL_47b70740e2194a06bb52ecee9e7227a4",
            "value": "Extraction completed...: "
          }
        },
        "5b43997d50164dd882bc357ee585992b": {
          "model_module": "@jupyter-widgets/controls",
          "model_name": "FloatProgressModel",
          "model_module_version": "1.5.0",
          "state": {
            "_dom_classes": [],
            "_model_module": "@jupyter-widgets/controls",
            "_model_module_version": "1.5.0",
            "_model_name": "FloatProgressModel",
            "_view_count": null,
            "_view_module": "@jupyter-widgets/controls",
            "_view_module_version": "1.5.0",
            "_view_name": "ProgressView",
            "bar_style": "success",
            "description": "",
            "description_tooltip": null,
            "layout": "IPY_MODEL_98771b057fbe441182b97a72da061340",
            "max": 1,
            "min": 0,
            "orientation": "horizontal",
            "style": "IPY_MODEL_32650515d46842e1821009ae9af8c6b4",
            "value": 0
          }
        },
        "83ad91bdfe0a476598fcce6394a81ac8": {
          "model_module": "@jupyter-widgets/controls",
          "model_name": "HTMLModel",
          "model_module_version": "1.5.0",
          "state": {
            "_dom_classes": [],
            "_model_module": "@jupyter-widgets/controls",
            "_model_module_version": "1.5.0",
            "_model_name": "HTMLModel",
            "_view_count": null,
            "_view_module": "@jupyter-widgets/controls",
            "_view_module_version": "1.5.0",
            "_view_name": "HTMLView",
            "description": "",
            "description_tooltip": null,
            "layout": "IPY_MODEL_7907c318ad8845bebaf15229969a8d67",
            "placeholder": "​",
            "style": "IPY_MODEL_f4651299bb04437b81f723cc1f79c25d",
            "value": " 0/0 [00:00&lt;?, ? file/s]"
          }
        },
        "d39edf81127a4b99bc7a8637be2e7f1b": {
          "model_module": "@jupyter-widgets/base",
          "model_name": "LayoutModel",
          "model_module_version": "1.2.0",
          "state": {
            "_model_module": "@jupyter-widgets/base",
            "_model_module_version": "1.2.0",
            "_model_name": "LayoutModel",
            "_view_count": null,
            "_view_module": "@jupyter-widgets/base",
            "_view_module_version": "1.2.0",
            "_view_name": "LayoutView",
            "align_content": null,
            "align_items": null,
            "align_self": null,
            "border": null,
            "bottom": null,
            "display": null,
            "flex": null,
            "flex_flow": null,
            "grid_area": null,
            "grid_auto_columns": null,
            "grid_auto_flow": null,
            "grid_auto_rows": null,
            "grid_column": null,
            "grid_gap": null,
            "grid_row": null,
            "grid_template_areas": null,
            "grid_template_columns": null,
            "grid_template_rows": null,
            "height": null,
            "justify_content": null,
            "justify_items": null,
            "left": null,
            "margin": null,
            "max_height": null,
            "max_width": null,
            "min_height": null,
            "min_width": null,
            "object_fit": null,
            "object_position": null,
            "order": null,
            "overflow": null,
            "overflow_x": null,
            "overflow_y": null,
            "padding": null,
            "right": null,
            "top": null,
            "visibility": null,
            "width": null
          }
        },
        "c92ef86fdf344edbaf40b5c48dbb74be": {
          "model_module": "@jupyter-widgets/base",
          "model_name": "LayoutModel",
          "model_module_version": "1.2.0",
          "state": {
            "_model_module": "@jupyter-widgets/base",
            "_model_module_version": "1.2.0",
            "_model_name": "LayoutModel",
            "_view_count": null,
            "_view_module": "@jupyter-widgets/base",
            "_view_module_version": "1.2.0",
            "_view_name": "LayoutView",
            "align_content": null,
            "align_items": null,
            "align_self": null,
            "border": null,
            "bottom": null,
            "display": null,
            "flex": null,
            "flex_flow": null,
            "grid_area": null,
            "grid_auto_columns": null,
            "grid_auto_flow": null,
            "grid_auto_rows": null,
            "grid_column": null,
            "grid_gap": null,
            "grid_row": null,
            "grid_template_areas": null,
            "grid_template_columns": null,
            "grid_template_rows": null,
            "height": null,
            "justify_content": null,
            "justify_items": null,
            "left": null,
            "margin": null,
            "max_height": null,
            "max_width": null,
            "min_height": null,
            "min_width": null,
            "object_fit": null,
            "object_position": null,
            "order": null,
            "overflow": null,
            "overflow_x": null,
            "overflow_y": null,
            "padding": null,
            "right": null,
            "top": null,
            "visibility": null,
            "width": null
          }
        },
        "47b70740e2194a06bb52ecee9e7227a4": {
          "model_module": "@jupyter-widgets/controls",
          "model_name": "DescriptionStyleModel",
          "model_module_version": "1.5.0",
          "state": {
            "_model_module": "@jupyter-widgets/controls",
            "_model_module_version": "1.5.0",
            "_model_name": "DescriptionStyleModel",
            "_view_count": null,
            "_view_module": "@jupyter-widgets/base",
            "_view_module_version": "1.2.0",
            "_view_name": "StyleView",
            "description_width": ""
          }
        },
        "98771b057fbe441182b97a72da061340": {
          "model_module": "@jupyter-widgets/base",
          "model_name": "LayoutModel",
          "model_module_version": "1.2.0",
          "state": {
            "_model_module": "@jupyter-widgets/base",
            "_model_module_version": "1.2.0",
            "_model_name": "LayoutModel",
            "_view_count": null,
            "_view_module": "@jupyter-widgets/base",
            "_view_module_version": "1.2.0",
            "_view_name": "LayoutView",
            "align_content": null,
            "align_items": null,
            "align_self": null,
            "border": null,
            "bottom": null,
            "display": null,
            "flex": null,
            "flex_flow": null,
            "grid_area": null,
            "grid_auto_columns": null,
            "grid_auto_flow": null,
            "grid_auto_rows": null,
            "grid_column": null,
            "grid_gap": null,
            "grid_row": null,
            "grid_template_areas": null,
            "grid_template_columns": null,
            "grid_template_rows": null,
            "height": null,
            "justify_content": null,
            "justify_items": null,
            "left": null,
            "margin": null,
            "max_height": null,
            "max_width": null,
            "min_height": null,
            "min_width": null,
            "object_fit": null,
            "object_position": null,
            "order": null,
            "overflow": null,
            "overflow_x": null,
            "overflow_y": null,
            "padding": null,
            "right": null,
            "top": null,
            "visibility": null,
            "width": "20px"
          }
        },
        "32650515d46842e1821009ae9af8c6b4": {
          "model_module": "@jupyter-widgets/controls",
          "model_name": "ProgressStyleModel",
          "model_module_version": "1.5.0",
          "state": {
            "_model_module": "@jupyter-widgets/controls",
            "_model_module_version": "1.5.0",
            "_model_name": "ProgressStyleModel",
            "_view_count": null,
            "_view_module": "@jupyter-widgets/base",
            "_view_module_version": "1.2.0",
            "_view_name": "StyleView",
            "bar_color": null,
            "description_width": ""
          }
        },
        "7907c318ad8845bebaf15229969a8d67": {
          "model_module": "@jupyter-widgets/base",
          "model_name": "LayoutModel",
          "model_module_version": "1.2.0",
          "state": {
            "_model_module": "@jupyter-widgets/base",
            "_model_module_version": "1.2.0",
            "_model_name": "LayoutModel",
            "_view_count": null,
            "_view_module": "@jupyter-widgets/base",
            "_view_module_version": "1.2.0",
            "_view_name": "LayoutView",
            "align_content": null,
            "align_items": null,
            "align_self": null,
            "border": null,
            "bottom": null,
            "display": null,
            "flex": null,
            "flex_flow": null,
            "grid_area": null,
            "grid_auto_columns": null,
            "grid_auto_flow": null,
            "grid_auto_rows": null,
            "grid_column": null,
            "grid_gap": null,
            "grid_row": null,
            "grid_template_areas": null,
            "grid_template_columns": null,
            "grid_template_rows": null,
            "height": null,
            "justify_content": null,
            "justify_items": null,
            "left": null,
            "margin": null,
            "max_height": null,
            "max_width": null,
            "min_height": null,
            "min_width": null,
            "object_fit": null,
            "object_position": null,
            "order": null,
            "overflow": null,
            "overflow_x": null,
            "overflow_y": null,
            "padding": null,
            "right": null,
            "top": null,
            "visibility": null,
            "width": null
          }
        },
        "f4651299bb04437b81f723cc1f79c25d": {
          "model_module": "@jupyter-widgets/controls",
          "model_name": "DescriptionStyleModel",
          "model_module_version": "1.5.0",
          "state": {
            "_model_module": "@jupyter-widgets/controls",
            "_model_module_version": "1.5.0",
            "_model_name": "DescriptionStyleModel",
            "_view_count": null,
            "_view_module": "@jupyter-widgets/base",
            "_view_module_version": "1.2.0",
            "_view_name": "StyleView",
            "description_width": ""
          }
        },
        "8016f84d8a3f47bca5b3d01994dd91b0": {
          "model_module": "@jupyter-widgets/controls",
          "model_name": "HBoxModel",
          "model_module_version": "1.5.0",
          "state": {
            "_dom_classes": [],
            "_model_module": "@jupyter-widgets/controls",
            "_model_module_version": "1.5.0",
            "_model_name": "HBoxModel",
            "_view_count": null,
            "_view_module": "@jupyter-widgets/controls",
            "_view_module_version": "1.5.0",
            "_view_name": "HBoxView",
            "box_style": "",
            "children": [
              "IPY_MODEL_51737ea44cc04b668ed63d5bc5d9513d",
              "IPY_MODEL_e5efa628773f403199cf5b440445d587",
              "IPY_MODEL_397ac913e97c45bcb63ad8a9302b0fc2"
            ],
            "layout": "IPY_MODEL_d8825c844a724d55ab65c54dd7da81b0"
          }
        },
        "51737ea44cc04b668ed63d5bc5d9513d": {
          "model_module": "@jupyter-widgets/controls",
          "model_name": "HTMLModel",
          "model_module_version": "1.5.0",
          "state": {
            "_dom_classes": [],
            "_model_module": "@jupyter-widgets/controls",
            "_model_module_version": "1.5.0",
            "_model_name": "HTMLModel",
            "_view_count": null,
            "_view_module": "@jupyter-widgets/controls",
            "_view_module_version": "1.5.0",
            "_view_name": "HTMLView",
            "description": "",
            "description_tooltip": null,
            "layout": "IPY_MODEL_647d10a02a83478e84a912e46736282c",
            "placeholder": "​",
            "style": "IPY_MODEL_f069e09d68d247d590ef17a8ac57d8da",
            "value": "Generating splits...: 100%"
          }
        },
        "e5efa628773f403199cf5b440445d587": {
          "model_module": "@jupyter-widgets/controls",
          "model_name": "FloatProgressModel",
          "model_module_version": "1.5.0",
          "state": {
            "_dom_classes": [],
            "_model_module": "@jupyter-widgets/controls",
            "_model_module_version": "1.5.0",
            "_model_name": "FloatProgressModel",
            "_view_count": null,
            "_view_module": "@jupyter-widgets/controls",
            "_view_module_version": "1.5.0",
            "_view_name": "ProgressView",
            "bar_style": "",
            "description": "",
            "description_tooltip": null,
            "layout": "IPY_MODEL_6190b1d171c2499797da30ea317e8bb7",
            "max": 2,
            "min": 0,
            "orientation": "horizontal",
            "style": "IPY_MODEL_bc66ab589b134046b9714cf508c2a648",
            "value": 2
          }
        },
        "397ac913e97c45bcb63ad8a9302b0fc2": {
          "model_module": "@jupyter-widgets/controls",
          "model_name": "HTMLModel",
          "model_module_version": "1.5.0",
          "state": {
            "_dom_classes": [],
            "_model_module": "@jupyter-widgets/controls",
            "_model_module_version": "1.5.0",
            "_model_name": "HTMLModel",
            "_view_count": null,
            "_view_module": "@jupyter-widgets/controls",
            "_view_module_version": "1.5.0",
            "_view_name": "HTMLView",
            "description": "",
            "description_tooltip": null,
            "layout": "IPY_MODEL_f301fd08071e4f5daa8bf2e42f28911d",
            "placeholder": "​",
            "style": "IPY_MODEL_fb16f296117942a8a42abbd69d6f2da0",
            "value": " 2/2 [00:31&lt;00:00, 13.79s/ splits]"
          }
        },
        "d8825c844a724d55ab65c54dd7da81b0": {
          "model_module": "@jupyter-widgets/base",
          "model_name": "LayoutModel",
          "model_module_version": "1.2.0",
          "state": {
            "_model_module": "@jupyter-widgets/base",
            "_model_module_version": "1.2.0",
            "_model_name": "LayoutModel",
            "_view_count": null,
            "_view_module": "@jupyter-widgets/base",
            "_view_module_version": "1.2.0",
            "_view_name": "LayoutView",
            "align_content": null,
            "align_items": null,
            "align_self": null,
            "border": null,
            "bottom": null,
            "display": null,
            "flex": null,
            "flex_flow": null,
            "grid_area": null,
            "grid_auto_columns": null,
            "grid_auto_flow": null,
            "grid_auto_rows": null,
            "grid_column": null,
            "grid_gap": null,
            "grid_row": null,
            "grid_template_areas": null,
            "grid_template_columns": null,
            "grid_template_rows": null,
            "height": null,
            "justify_content": null,
            "justify_items": null,
            "left": null,
            "margin": null,
            "max_height": null,
            "max_width": null,
            "min_height": null,
            "min_width": null,
            "object_fit": null,
            "object_position": null,
            "order": null,
            "overflow": null,
            "overflow_x": null,
            "overflow_y": null,
            "padding": null,
            "right": null,
            "top": null,
            "visibility": "hidden",
            "width": null
          }
        },
        "647d10a02a83478e84a912e46736282c": {
          "model_module": "@jupyter-widgets/base",
          "model_name": "LayoutModel",
          "model_module_version": "1.2.0",
          "state": {
            "_model_module": "@jupyter-widgets/base",
            "_model_module_version": "1.2.0",
            "_model_name": "LayoutModel",
            "_view_count": null,
            "_view_module": "@jupyter-widgets/base",
            "_view_module_version": "1.2.0",
            "_view_name": "LayoutView",
            "align_content": null,
            "align_items": null,
            "align_self": null,
            "border": null,
            "bottom": null,
            "display": null,
            "flex": null,
            "flex_flow": null,
            "grid_area": null,
            "grid_auto_columns": null,
            "grid_auto_flow": null,
            "grid_auto_rows": null,
            "grid_column": null,
            "grid_gap": null,
            "grid_row": null,
            "grid_template_areas": null,
            "grid_template_columns": null,
            "grid_template_rows": null,
            "height": null,
            "justify_content": null,
            "justify_items": null,
            "left": null,
            "margin": null,
            "max_height": null,
            "max_width": null,
            "min_height": null,
            "min_width": null,
            "object_fit": null,
            "object_position": null,
            "order": null,
            "overflow": null,
            "overflow_x": null,
            "overflow_y": null,
            "padding": null,
            "right": null,
            "top": null,
            "visibility": null,
            "width": null
          }
        },
        "f069e09d68d247d590ef17a8ac57d8da": {
          "model_module": "@jupyter-widgets/controls",
          "model_name": "DescriptionStyleModel",
          "model_module_version": "1.5.0",
          "state": {
            "_model_module": "@jupyter-widgets/controls",
            "_model_module_version": "1.5.0",
            "_model_name": "DescriptionStyleModel",
            "_view_count": null,
            "_view_module": "@jupyter-widgets/base",
            "_view_module_version": "1.2.0",
            "_view_name": "StyleView",
            "description_width": ""
          }
        },
        "6190b1d171c2499797da30ea317e8bb7": {
          "model_module": "@jupyter-widgets/base",
          "model_name": "LayoutModel",
          "model_module_version": "1.2.0",
          "state": {
            "_model_module": "@jupyter-widgets/base",
            "_model_module_version": "1.2.0",
            "_model_name": "LayoutModel",
            "_view_count": null,
            "_view_module": "@jupyter-widgets/base",
            "_view_module_version": "1.2.0",
            "_view_name": "LayoutView",
            "align_content": null,
            "align_items": null,
            "align_self": null,
            "border": null,
            "bottom": null,
            "display": null,
            "flex": null,
            "flex_flow": null,
            "grid_area": null,
            "grid_auto_columns": null,
            "grid_auto_flow": null,
            "grid_auto_rows": null,
            "grid_column": null,
            "grid_gap": null,
            "grid_row": null,
            "grid_template_areas": null,
            "grid_template_columns": null,
            "grid_template_rows": null,
            "height": null,
            "justify_content": null,
            "justify_items": null,
            "left": null,
            "margin": null,
            "max_height": null,
            "max_width": null,
            "min_height": null,
            "min_width": null,
            "object_fit": null,
            "object_position": null,
            "order": null,
            "overflow": null,
            "overflow_x": null,
            "overflow_y": null,
            "padding": null,
            "right": null,
            "top": null,
            "visibility": null,
            "width": null
          }
        },
        "bc66ab589b134046b9714cf508c2a648": {
          "model_module": "@jupyter-widgets/controls",
          "model_name": "ProgressStyleModel",
          "model_module_version": "1.5.0",
          "state": {
            "_model_module": "@jupyter-widgets/controls",
            "_model_module_version": "1.5.0",
            "_model_name": "ProgressStyleModel",
            "_view_count": null,
            "_view_module": "@jupyter-widgets/base",
            "_view_module_version": "1.2.0",
            "_view_name": "StyleView",
            "bar_color": null,
            "description_width": ""
          }
        },
        "f301fd08071e4f5daa8bf2e42f28911d": {
          "model_module": "@jupyter-widgets/base",
          "model_name": "LayoutModel",
          "model_module_version": "1.2.0",
          "state": {
            "_model_module": "@jupyter-widgets/base",
            "_model_module_version": "1.2.0",
            "_model_name": "LayoutModel",
            "_view_count": null,
            "_view_module": "@jupyter-widgets/base",
            "_view_module_version": "1.2.0",
            "_view_name": "LayoutView",
            "align_content": null,
            "align_items": null,
            "align_self": null,
            "border": null,
            "bottom": null,
            "display": null,
            "flex": null,
            "flex_flow": null,
            "grid_area": null,
            "grid_auto_columns": null,
            "grid_auto_flow": null,
            "grid_auto_rows": null,
            "grid_column": null,
            "grid_gap": null,
            "grid_row": null,
            "grid_template_areas": null,
            "grid_template_columns": null,
            "grid_template_rows": null,
            "height": null,
            "justify_content": null,
            "justify_items": null,
            "left": null,
            "margin": null,
            "max_height": null,
            "max_width": null,
            "min_height": null,
            "min_width": null,
            "object_fit": null,
            "object_position": null,
            "order": null,
            "overflow": null,
            "overflow_x": null,
            "overflow_y": null,
            "padding": null,
            "right": null,
            "top": null,
            "visibility": null,
            "width": null
          }
        },
        "fb16f296117942a8a42abbd69d6f2da0": {
          "model_module": "@jupyter-widgets/controls",
          "model_name": "DescriptionStyleModel",
          "model_module_version": "1.5.0",
          "state": {
            "_model_module": "@jupyter-widgets/controls",
            "_model_module_version": "1.5.0",
            "_model_name": "DescriptionStyleModel",
            "_view_count": null,
            "_view_module": "@jupyter-widgets/base",
            "_view_module_version": "1.2.0",
            "_view_name": "StyleView",
            "description_width": ""
          }
        },
        "aec74d38b02f40538b7ddd25ef204537": {
          "model_module": "@jupyter-widgets/controls",
          "model_name": "HBoxModel",
          "model_module_version": "1.5.0",
          "state": {
            "_dom_classes": [],
            "_model_module": "@jupyter-widgets/controls",
            "_model_module_version": "1.5.0",
            "_model_name": "HBoxModel",
            "_view_count": null,
            "_view_module": "@jupyter-widgets/controls",
            "_view_module_version": "1.5.0",
            "_view_name": "HBoxView",
            "box_style": "",
            "children": [
              "IPY_MODEL_ce68f840cf2445219310ced633696f97",
              "IPY_MODEL_8b3a318dda1b4ed48cf3adfe00f7e696",
              "IPY_MODEL_f669841f6d494cf5bf6190182871aafa"
            ],
            "layout": "IPY_MODEL_f922c817d7f941a894b784f75f642cda"
          }
        },
        "ce68f840cf2445219310ced633696f97": {
          "model_module": "@jupyter-widgets/controls",
          "model_name": "HTMLModel",
          "model_module_version": "1.5.0",
          "state": {
            "_dom_classes": [],
            "_model_module": "@jupyter-widgets/controls",
            "_model_module_version": "1.5.0",
            "_model_name": "HTMLModel",
            "_view_count": null,
            "_view_module": "@jupyter-widgets/controls",
            "_view_module_version": "1.5.0",
            "_view_name": "HTMLView",
            "description": "",
            "description_tooltip": null,
            "layout": "IPY_MODEL_4cb0cb3cc9454e7f9262a89705d0f1d0",
            "placeholder": "​",
            "style": "IPY_MODEL_53d1e67ba3c04a0aae493e6eded49479",
            "value": "Generating train examples...:  97%"
          }
        },
        "8b3a318dda1b4ed48cf3adfe00f7e696": {
          "model_module": "@jupyter-widgets/controls",
          "model_name": "FloatProgressModel",
          "model_module_version": "1.5.0",
          "state": {
            "_dom_classes": [],
            "_model_module": "@jupyter-widgets/controls",
            "_model_module_version": "1.5.0",
            "_model_name": "FloatProgressModel",
            "_view_count": null,
            "_view_module": "@jupyter-widgets/controls",
            "_view_module_version": "1.5.0",
            "_view_name": "ProgressView",
            "bar_style": "",
            "description": "",
            "description_tooltip": null,
            "layout": "IPY_MODEL_f9faadd5956f4d49ac770e89c6980bcc",
            "max": 60000,
            "min": 0,
            "orientation": "horizontal",
            "style": "IPY_MODEL_79a8c95caa754bff9fc42392a8888f50",
            "value": 60000
          }
        },
        "f669841f6d494cf5bf6190182871aafa": {
          "model_module": "@jupyter-widgets/controls",
          "model_name": "HTMLModel",
          "model_module_version": "1.5.0",
          "state": {
            "_dom_classes": [],
            "_model_module": "@jupyter-widgets/controls",
            "_model_module_version": "1.5.0",
            "_model_name": "HTMLModel",
            "_view_count": null,
            "_view_module": "@jupyter-widgets/controls",
            "_view_module_version": "1.5.0",
            "_view_name": "HTMLView",
            "description": "",
            "description_tooltip": null,
            "layout": "IPY_MODEL_9c97f86ecb3f469b8aa1e815b40afcb8",
            "placeholder": "​",
            "style": "IPY_MODEL_d7d16f3e894b497c936a95676a5831d1",
            "value": " 58312/60000 [00:26&lt;00:00, 2014.34 examples/s]"
          }
        },
        "f922c817d7f941a894b784f75f642cda": {
          "model_module": "@jupyter-widgets/base",
          "model_name": "LayoutModel",
          "model_module_version": "1.2.0",
          "state": {
            "_model_module": "@jupyter-widgets/base",
            "_model_module_version": "1.2.0",
            "_model_name": "LayoutModel",
            "_view_count": null,
            "_view_module": "@jupyter-widgets/base",
            "_view_module_version": "1.2.0",
            "_view_name": "LayoutView",
            "align_content": null,
            "align_items": null,
            "align_self": null,
            "border": null,
            "bottom": null,
            "display": null,
            "flex": null,
            "flex_flow": null,
            "grid_area": null,
            "grid_auto_columns": null,
            "grid_auto_flow": null,
            "grid_auto_rows": null,
            "grid_column": null,
            "grid_gap": null,
            "grid_row": null,
            "grid_template_areas": null,
            "grid_template_columns": null,
            "grid_template_rows": null,
            "height": null,
            "justify_content": null,
            "justify_items": null,
            "left": null,
            "margin": null,
            "max_height": null,
            "max_width": null,
            "min_height": null,
            "min_width": null,
            "object_fit": null,
            "object_position": null,
            "order": null,
            "overflow": null,
            "overflow_x": null,
            "overflow_y": null,
            "padding": null,
            "right": null,
            "top": null,
            "visibility": "hidden",
            "width": null
          }
        },
        "4cb0cb3cc9454e7f9262a89705d0f1d0": {
          "model_module": "@jupyter-widgets/base",
          "model_name": "LayoutModel",
          "model_module_version": "1.2.0",
          "state": {
            "_model_module": "@jupyter-widgets/base",
            "_model_module_version": "1.2.0",
            "_model_name": "LayoutModel",
            "_view_count": null,
            "_view_module": "@jupyter-widgets/base",
            "_view_module_version": "1.2.0",
            "_view_name": "LayoutView",
            "align_content": null,
            "align_items": null,
            "align_self": null,
            "border": null,
            "bottom": null,
            "display": null,
            "flex": null,
            "flex_flow": null,
            "grid_area": null,
            "grid_auto_columns": null,
            "grid_auto_flow": null,
            "grid_auto_rows": null,
            "grid_column": null,
            "grid_gap": null,
            "grid_row": null,
            "grid_template_areas": null,
            "grid_template_columns": null,
            "grid_template_rows": null,
            "height": null,
            "justify_content": null,
            "justify_items": null,
            "left": null,
            "margin": null,
            "max_height": null,
            "max_width": null,
            "min_height": null,
            "min_width": null,
            "object_fit": null,
            "object_position": null,
            "order": null,
            "overflow": null,
            "overflow_x": null,
            "overflow_y": null,
            "padding": null,
            "right": null,
            "top": null,
            "visibility": null,
            "width": null
          }
        },
        "53d1e67ba3c04a0aae493e6eded49479": {
          "model_module": "@jupyter-widgets/controls",
          "model_name": "DescriptionStyleModel",
          "model_module_version": "1.5.0",
          "state": {
            "_model_module": "@jupyter-widgets/controls",
            "_model_module_version": "1.5.0",
            "_model_name": "DescriptionStyleModel",
            "_view_count": null,
            "_view_module": "@jupyter-widgets/base",
            "_view_module_version": "1.2.0",
            "_view_name": "StyleView",
            "description_width": ""
          }
        },
        "f9faadd5956f4d49ac770e89c6980bcc": {
          "model_module": "@jupyter-widgets/base",
          "model_name": "LayoutModel",
          "model_module_version": "1.2.0",
          "state": {
            "_model_module": "@jupyter-widgets/base",
            "_model_module_version": "1.2.0",
            "_model_name": "LayoutModel",
            "_view_count": null,
            "_view_module": "@jupyter-widgets/base",
            "_view_module_version": "1.2.0",
            "_view_name": "LayoutView",
            "align_content": null,
            "align_items": null,
            "align_self": null,
            "border": null,
            "bottom": null,
            "display": null,
            "flex": null,
            "flex_flow": null,
            "grid_area": null,
            "grid_auto_columns": null,
            "grid_auto_flow": null,
            "grid_auto_rows": null,
            "grid_column": null,
            "grid_gap": null,
            "grid_row": null,
            "grid_template_areas": null,
            "grid_template_columns": null,
            "grid_template_rows": null,
            "height": null,
            "justify_content": null,
            "justify_items": null,
            "left": null,
            "margin": null,
            "max_height": null,
            "max_width": null,
            "min_height": null,
            "min_width": null,
            "object_fit": null,
            "object_position": null,
            "order": null,
            "overflow": null,
            "overflow_x": null,
            "overflow_y": null,
            "padding": null,
            "right": null,
            "top": null,
            "visibility": null,
            "width": null
          }
        },
        "79a8c95caa754bff9fc42392a8888f50": {
          "model_module": "@jupyter-widgets/controls",
          "model_name": "ProgressStyleModel",
          "model_module_version": "1.5.0",
          "state": {
            "_model_module": "@jupyter-widgets/controls",
            "_model_module_version": "1.5.0",
            "_model_name": "ProgressStyleModel",
            "_view_count": null,
            "_view_module": "@jupyter-widgets/base",
            "_view_module_version": "1.2.0",
            "_view_name": "StyleView",
            "bar_color": null,
            "description_width": ""
          }
        },
        "9c97f86ecb3f469b8aa1e815b40afcb8": {
          "model_module": "@jupyter-widgets/base",
          "model_name": "LayoutModel",
          "model_module_version": "1.2.0",
          "state": {
            "_model_module": "@jupyter-widgets/base",
            "_model_module_version": "1.2.0",
            "_model_name": "LayoutModel",
            "_view_count": null,
            "_view_module": "@jupyter-widgets/base",
            "_view_module_version": "1.2.0",
            "_view_name": "LayoutView",
            "align_content": null,
            "align_items": null,
            "align_self": null,
            "border": null,
            "bottom": null,
            "display": null,
            "flex": null,
            "flex_flow": null,
            "grid_area": null,
            "grid_auto_columns": null,
            "grid_auto_flow": null,
            "grid_auto_rows": null,
            "grid_column": null,
            "grid_gap": null,
            "grid_row": null,
            "grid_template_areas": null,
            "grid_template_columns": null,
            "grid_template_rows": null,
            "height": null,
            "justify_content": null,
            "justify_items": null,
            "left": null,
            "margin": null,
            "max_height": null,
            "max_width": null,
            "min_height": null,
            "min_width": null,
            "object_fit": null,
            "object_position": null,
            "order": null,
            "overflow": null,
            "overflow_x": null,
            "overflow_y": null,
            "padding": null,
            "right": null,
            "top": null,
            "visibility": null,
            "width": null
          }
        },
        "d7d16f3e894b497c936a95676a5831d1": {
          "model_module": "@jupyter-widgets/controls",
          "model_name": "DescriptionStyleModel",
          "model_module_version": "1.5.0",
          "state": {
            "_model_module": "@jupyter-widgets/controls",
            "_model_module_version": "1.5.0",
            "_model_name": "DescriptionStyleModel",
            "_view_count": null,
            "_view_module": "@jupyter-widgets/base",
            "_view_module_version": "1.2.0",
            "_view_name": "StyleView",
            "description_width": ""
          }
        },
        "19089934342b4abaa7edf50351344ddc": {
          "model_module": "@jupyter-widgets/controls",
          "model_name": "HBoxModel",
          "model_module_version": "1.5.0",
          "state": {
            "_dom_classes": [],
            "_model_module": "@jupyter-widgets/controls",
            "_model_module_version": "1.5.0",
            "_model_name": "HBoxModel",
            "_view_count": null,
            "_view_module": "@jupyter-widgets/controls",
            "_view_module_version": "1.5.0",
            "_view_name": "HBoxView",
            "box_style": "",
            "children": [
              "IPY_MODEL_efb1654b53b34d31ab21014a46c8fcec",
              "IPY_MODEL_202f367623ed41a68e1278abc22f860f",
              "IPY_MODEL_06172c93134240d5b010d6a5d9e8d887"
            ],
            "layout": "IPY_MODEL_00473f9b36b34913b3bfca00bd1552b6"
          }
        },
        "efb1654b53b34d31ab21014a46c8fcec": {
          "model_module": "@jupyter-widgets/controls",
          "model_name": "HTMLModel",
          "model_module_version": "1.5.0",
          "state": {
            "_dom_classes": [],
            "_model_module": "@jupyter-widgets/controls",
            "_model_module_version": "1.5.0",
            "_model_name": "HTMLModel",
            "_view_count": null,
            "_view_module": "@jupyter-widgets/controls",
            "_view_module_version": "1.5.0",
            "_view_name": "HTMLView",
            "description": "",
            "description_tooltip": null,
            "layout": "IPY_MODEL_1d550882fc8045778124c57d78fa9585",
            "placeholder": "​",
            "style": "IPY_MODEL_3ef673b55f1f41888703154a1d8e10a2",
            "value": "Shuffling /root/tensorflow_datasets/fashion_mnist/incomplete.N8R9GE_3.0.1/fashion_mnist-train.tfrecord*...:   0%"
          }
        },
        "202f367623ed41a68e1278abc22f860f": {
          "model_module": "@jupyter-widgets/controls",
          "model_name": "FloatProgressModel",
          "model_module_version": "1.5.0",
          "state": {
            "_dom_classes": [],
            "_model_module": "@jupyter-widgets/controls",
            "_model_module_version": "1.5.0",
            "_model_name": "FloatProgressModel",
            "_view_count": null,
            "_view_module": "@jupyter-widgets/controls",
            "_view_module_version": "1.5.0",
            "_view_name": "ProgressView",
            "bar_style": "",
            "description": "",
            "description_tooltip": null,
            "layout": "IPY_MODEL_7b6c52baa65246f298e0f1f79f771b07",
            "max": 60000,
            "min": 0,
            "orientation": "horizontal",
            "style": "IPY_MODEL_8db26d6983f349c4ba081aff9a74eca4",
            "value": 60000
          }
        },
        "06172c93134240d5b010d6a5d9e8d887": {
          "model_module": "@jupyter-widgets/controls",
          "model_name": "HTMLModel",
          "model_module_version": "1.5.0",
          "state": {
            "_dom_classes": [],
            "_model_module": "@jupyter-widgets/controls",
            "_model_module_version": "1.5.0",
            "_model_name": "HTMLModel",
            "_view_count": null,
            "_view_module": "@jupyter-widgets/controls",
            "_view_module_version": "1.5.0",
            "_view_name": "HTMLView",
            "description": "",
            "description_tooltip": null,
            "layout": "IPY_MODEL_dd4b75f8a3a541178b5a2f3fff93eb80",
            "placeholder": "​",
            "style": "IPY_MODEL_f00168cc1915461ca2de1fe641e8313d",
            "value": " 0/60000 [00:00&lt;?, ? examples/s]"
          }
        },
        "00473f9b36b34913b3bfca00bd1552b6": {
          "model_module": "@jupyter-widgets/base",
          "model_name": "LayoutModel",
          "model_module_version": "1.2.0",
          "state": {
            "_model_module": "@jupyter-widgets/base",
            "_model_module_version": "1.2.0",
            "_model_name": "LayoutModel",
            "_view_count": null,
            "_view_module": "@jupyter-widgets/base",
            "_view_module_version": "1.2.0",
            "_view_name": "LayoutView",
            "align_content": null,
            "align_items": null,
            "align_self": null,
            "border": null,
            "bottom": null,
            "display": null,
            "flex": null,
            "flex_flow": null,
            "grid_area": null,
            "grid_auto_columns": null,
            "grid_auto_flow": null,
            "grid_auto_rows": null,
            "grid_column": null,
            "grid_gap": null,
            "grid_row": null,
            "grid_template_areas": null,
            "grid_template_columns": null,
            "grid_template_rows": null,
            "height": null,
            "justify_content": null,
            "justify_items": null,
            "left": null,
            "margin": null,
            "max_height": null,
            "max_width": null,
            "min_height": null,
            "min_width": null,
            "object_fit": null,
            "object_position": null,
            "order": null,
            "overflow": null,
            "overflow_x": null,
            "overflow_y": null,
            "padding": null,
            "right": null,
            "top": null,
            "visibility": "hidden",
            "width": null
          }
        },
        "1d550882fc8045778124c57d78fa9585": {
          "model_module": "@jupyter-widgets/base",
          "model_name": "LayoutModel",
          "model_module_version": "1.2.0",
          "state": {
            "_model_module": "@jupyter-widgets/base",
            "_model_module_version": "1.2.0",
            "_model_name": "LayoutModel",
            "_view_count": null,
            "_view_module": "@jupyter-widgets/base",
            "_view_module_version": "1.2.0",
            "_view_name": "LayoutView",
            "align_content": null,
            "align_items": null,
            "align_self": null,
            "border": null,
            "bottom": null,
            "display": null,
            "flex": null,
            "flex_flow": null,
            "grid_area": null,
            "grid_auto_columns": null,
            "grid_auto_flow": null,
            "grid_auto_rows": null,
            "grid_column": null,
            "grid_gap": null,
            "grid_row": null,
            "grid_template_areas": null,
            "grid_template_columns": null,
            "grid_template_rows": null,
            "height": null,
            "justify_content": null,
            "justify_items": null,
            "left": null,
            "margin": null,
            "max_height": null,
            "max_width": null,
            "min_height": null,
            "min_width": null,
            "object_fit": null,
            "object_position": null,
            "order": null,
            "overflow": null,
            "overflow_x": null,
            "overflow_y": null,
            "padding": null,
            "right": null,
            "top": null,
            "visibility": null,
            "width": null
          }
        },
        "3ef673b55f1f41888703154a1d8e10a2": {
          "model_module": "@jupyter-widgets/controls",
          "model_name": "DescriptionStyleModel",
          "model_module_version": "1.5.0",
          "state": {
            "_model_module": "@jupyter-widgets/controls",
            "_model_module_version": "1.5.0",
            "_model_name": "DescriptionStyleModel",
            "_view_count": null,
            "_view_module": "@jupyter-widgets/base",
            "_view_module_version": "1.2.0",
            "_view_name": "StyleView",
            "description_width": ""
          }
        },
        "7b6c52baa65246f298e0f1f79f771b07": {
          "model_module": "@jupyter-widgets/base",
          "model_name": "LayoutModel",
          "model_module_version": "1.2.0",
          "state": {
            "_model_module": "@jupyter-widgets/base",
            "_model_module_version": "1.2.0",
            "_model_name": "LayoutModel",
            "_view_count": null,
            "_view_module": "@jupyter-widgets/base",
            "_view_module_version": "1.2.0",
            "_view_name": "LayoutView",
            "align_content": null,
            "align_items": null,
            "align_self": null,
            "border": null,
            "bottom": null,
            "display": null,
            "flex": null,
            "flex_flow": null,
            "grid_area": null,
            "grid_auto_columns": null,
            "grid_auto_flow": null,
            "grid_auto_rows": null,
            "grid_column": null,
            "grid_gap": null,
            "grid_row": null,
            "grid_template_areas": null,
            "grid_template_columns": null,
            "grid_template_rows": null,
            "height": null,
            "justify_content": null,
            "justify_items": null,
            "left": null,
            "margin": null,
            "max_height": null,
            "max_width": null,
            "min_height": null,
            "min_width": null,
            "object_fit": null,
            "object_position": null,
            "order": null,
            "overflow": null,
            "overflow_x": null,
            "overflow_y": null,
            "padding": null,
            "right": null,
            "top": null,
            "visibility": null,
            "width": null
          }
        },
        "8db26d6983f349c4ba081aff9a74eca4": {
          "model_module": "@jupyter-widgets/controls",
          "model_name": "ProgressStyleModel",
          "model_module_version": "1.5.0",
          "state": {
            "_model_module": "@jupyter-widgets/controls",
            "_model_module_version": "1.5.0",
            "_model_name": "ProgressStyleModel",
            "_view_count": null,
            "_view_module": "@jupyter-widgets/base",
            "_view_module_version": "1.2.0",
            "_view_name": "StyleView",
            "bar_color": null,
            "description_width": ""
          }
        },
        "dd4b75f8a3a541178b5a2f3fff93eb80": {
          "model_module": "@jupyter-widgets/base",
          "model_name": "LayoutModel",
          "model_module_version": "1.2.0",
          "state": {
            "_model_module": "@jupyter-widgets/base",
            "_model_module_version": "1.2.0",
            "_model_name": "LayoutModel",
            "_view_count": null,
            "_view_module": "@jupyter-widgets/base",
            "_view_module_version": "1.2.0",
            "_view_name": "LayoutView",
            "align_content": null,
            "align_items": null,
            "align_self": null,
            "border": null,
            "bottom": null,
            "display": null,
            "flex": null,
            "flex_flow": null,
            "grid_area": null,
            "grid_auto_columns": null,
            "grid_auto_flow": null,
            "grid_auto_rows": null,
            "grid_column": null,
            "grid_gap": null,
            "grid_row": null,
            "grid_template_areas": null,
            "grid_template_columns": null,
            "grid_template_rows": null,
            "height": null,
            "justify_content": null,
            "justify_items": null,
            "left": null,
            "margin": null,
            "max_height": null,
            "max_width": null,
            "min_height": null,
            "min_width": null,
            "object_fit": null,
            "object_position": null,
            "order": null,
            "overflow": null,
            "overflow_x": null,
            "overflow_y": null,
            "padding": null,
            "right": null,
            "top": null,
            "visibility": null,
            "width": null
          }
        },
        "f00168cc1915461ca2de1fe641e8313d": {
          "model_module": "@jupyter-widgets/controls",
          "model_name": "DescriptionStyleModel",
          "model_module_version": "1.5.0",
          "state": {
            "_model_module": "@jupyter-widgets/controls",
            "_model_module_version": "1.5.0",
            "_model_name": "DescriptionStyleModel",
            "_view_count": null,
            "_view_module": "@jupyter-widgets/base",
            "_view_module_version": "1.2.0",
            "_view_name": "StyleView",
            "description_width": ""
          }
        },
        "b46c57bb91cc41878ca757911cc02813": {
          "model_module": "@jupyter-widgets/controls",
          "model_name": "HBoxModel",
          "model_module_version": "1.5.0",
          "state": {
            "_dom_classes": [],
            "_model_module": "@jupyter-widgets/controls",
            "_model_module_version": "1.5.0",
            "_model_name": "HBoxModel",
            "_view_count": null,
            "_view_module": "@jupyter-widgets/controls",
            "_view_module_version": "1.5.0",
            "_view_name": "HBoxView",
            "box_style": "",
            "children": [
              "IPY_MODEL_9074a8bb154e4992ae0059dbc0fef87e",
              "IPY_MODEL_e3408d6d5449432ba47dfc9ce5393281",
              "IPY_MODEL_86e5bad884364677ac2a5071a675aa97"
            ],
            "layout": "IPY_MODEL_cb7f823e77594d6f9b631d6c0e32ae4f"
          }
        },
        "9074a8bb154e4992ae0059dbc0fef87e": {
          "model_module": "@jupyter-widgets/controls",
          "model_name": "HTMLModel",
          "model_module_version": "1.5.0",
          "state": {
            "_dom_classes": [],
            "_model_module": "@jupyter-widgets/controls",
            "_model_module_version": "1.5.0",
            "_model_name": "HTMLModel",
            "_view_count": null,
            "_view_module": "@jupyter-widgets/controls",
            "_view_module_version": "1.5.0",
            "_view_name": "HTMLView",
            "description": "",
            "description_tooltip": null,
            "layout": "IPY_MODEL_1a81d72e86a545d8885c2fb50dc9b54f",
            "placeholder": "​",
            "style": "IPY_MODEL_d507a1b7278548bf9733fb5432ee8241",
            "value": "Generating test examples...:  97%"
          }
        },
        "e3408d6d5449432ba47dfc9ce5393281": {
          "model_module": "@jupyter-widgets/controls",
          "model_name": "FloatProgressModel",
          "model_module_version": "1.5.0",
          "state": {
            "_dom_classes": [],
            "_model_module": "@jupyter-widgets/controls",
            "_model_module_version": "1.5.0",
            "_model_name": "FloatProgressModel",
            "_view_count": null,
            "_view_module": "@jupyter-widgets/controls",
            "_view_module_version": "1.5.0",
            "_view_name": "ProgressView",
            "bar_style": "",
            "description": "",
            "description_tooltip": null,
            "layout": "IPY_MODEL_a50ed1aa01d4405d9c6b0389028dad51",
            "max": 10000,
            "min": 0,
            "orientation": "horizontal",
            "style": "IPY_MODEL_a6d52b34557a4d4da2da4bc9b5cd69d5",
            "value": 10000
          }
        },
        "86e5bad884364677ac2a5071a675aa97": {
          "model_module": "@jupyter-widgets/controls",
          "model_name": "HTMLModel",
          "model_module_version": "1.5.0",
          "state": {
            "_dom_classes": [],
            "_model_module": "@jupyter-widgets/controls",
            "_model_module_version": "1.5.0",
            "_model_name": "HTMLModel",
            "_view_count": null,
            "_view_module": "@jupyter-widgets/controls",
            "_view_module_version": "1.5.0",
            "_view_name": "HTMLView",
            "description": "",
            "description_tooltip": null,
            "layout": "IPY_MODEL_e429b23a3bbd4f72b85ca2c33c9d9d4c",
            "placeholder": "​",
            "style": "IPY_MODEL_ad27e40e93d94a3bae3a7e9e7ba6482a",
            "value": " 9736/10000 [00:04&lt;00:00, 2467.69 examples/s]"
          }
        },
        "cb7f823e77594d6f9b631d6c0e32ae4f": {
          "model_module": "@jupyter-widgets/base",
          "model_name": "LayoutModel",
          "model_module_version": "1.2.0",
          "state": {
            "_model_module": "@jupyter-widgets/base",
            "_model_module_version": "1.2.0",
            "_model_name": "LayoutModel",
            "_view_count": null,
            "_view_module": "@jupyter-widgets/base",
            "_view_module_version": "1.2.0",
            "_view_name": "LayoutView",
            "align_content": null,
            "align_items": null,
            "align_self": null,
            "border": null,
            "bottom": null,
            "display": null,
            "flex": null,
            "flex_flow": null,
            "grid_area": null,
            "grid_auto_columns": null,
            "grid_auto_flow": null,
            "grid_auto_rows": null,
            "grid_column": null,
            "grid_gap": null,
            "grid_row": null,
            "grid_template_areas": null,
            "grid_template_columns": null,
            "grid_template_rows": null,
            "height": null,
            "justify_content": null,
            "justify_items": null,
            "left": null,
            "margin": null,
            "max_height": null,
            "max_width": null,
            "min_height": null,
            "min_width": null,
            "object_fit": null,
            "object_position": null,
            "order": null,
            "overflow": null,
            "overflow_x": null,
            "overflow_y": null,
            "padding": null,
            "right": null,
            "top": null,
            "visibility": "hidden",
            "width": null
          }
        },
        "1a81d72e86a545d8885c2fb50dc9b54f": {
          "model_module": "@jupyter-widgets/base",
          "model_name": "LayoutModel",
          "model_module_version": "1.2.0",
          "state": {
            "_model_module": "@jupyter-widgets/base",
            "_model_module_version": "1.2.0",
            "_model_name": "LayoutModel",
            "_view_count": null,
            "_view_module": "@jupyter-widgets/base",
            "_view_module_version": "1.2.0",
            "_view_name": "LayoutView",
            "align_content": null,
            "align_items": null,
            "align_self": null,
            "border": null,
            "bottom": null,
            "display": null,
            "flex": null,
            "flex_flow": null,
            "grid_area": null,
            "grid_auto_columns": null,
            "grid_auto_flow": null,
            "grid_auto_rows": null,
            "grid_column": null,
            "grid_gap": null,
            "grid_row": null,
            "grid_template_areas": null,
            "grid_template_columns": null,
            "grid_template_rows": null,
            "height": null,
            "justify_content": null,
            "justify_items": null,
            "left": null,
            "margin": null,
            "max_height": null,
            "max_width": null,
            "min_height": null,
            "min_width": null,
            "object_fit": null,
            "object_position": null,
            "order": null,
            "overflow": null,
            "overflow_x": null,
            "overflow_y": null,
            "padding": null,
            "right": null,
            "top": null,
            "visibility": null,
            "width": null
          }
        },
        "d507a1b7278548bf9733fb5432ee8241": {
          "model_module": "@jupyter-widgets/controls",
          "model_name": "DescriptionStyleModel",
          "model_module_version": "1.5.0",
          "state": {
            "_model_module": "@jupyter-widgets/controls",
            "_model_module_version": "1.5.0",
            "_model_name": "DescriptionStyleModel",
            "_view_count": null,
            "_view_module": "@jupyter-widgets/base",
            "_view_module_version": "1.2.0",
            "_view_name": "StyleView",
            "description_width": ""
          }
        },
        "a50ed1aa01d4405d9c6b0389028dad51": {
          "model_module": "@jupyter-widgets/base",
          "model_name": "LayoutModel",
          "model_module_version": "1.2.0",
          "state": {
            "_model_module": "@jupyter-widgets/base",
            "_model_module_version": "1.2.0",
            "_model_name": "LayoutModel",
            "_view_count": null,
            "_view_module": "@jupyter-widgets/base",
            "_view_module_version": "1.2.0",
            "_view_name": "LayoutView",
            "align_content": null,
            "align_items": null,
            "align_self": null,
            "border": null,
            "bottom": null,
            "display": null,
            "flex": null,
            "flex_flow": null,
            "grid_area": null,
            "grid_auto_columns": null,
            "grid_auto_flow": null,
            "grid_auto_rows": null,
            "grid_column": null,
            "grid_gap": null,
            "grid_row": null,
            "grid_template_areas": null,
            "grid_template_columns": null,
            "grid_template_rows": null,
            "height": null,
            "justify_content": null,
            "justify_items": null,
            "left": null,
            "margin": null,
            "max_height": null,
            "max_width": null,
            "min_height": null,
            "min_width": null,
            "object_fit": null,
            "object_position": null,
            "order": null,
            "overflow": null,
            "overflow_x": null,
            "overflow_y": null,
            "padding": null,
            "right": null,
            "top": null,
            "visibility": null,
            "width": null
          }
        },
        "a6d52b34557a4d4da2da4bc9b5cd69d5": {
          "model_module": "@jupyter-widgets/controls",
          "model_name": "ProgressStyleModel",
          "model_module_version": "1.5.0",
          "state": {
            "_model_module": "@jupyter-widgets/controls",
            "_model_module_version": "1.5.0",
            "_model_name": "ProgressStyleModel",
            "_view_count": null,
            "_view_module": "@jupyter-widgets/base",
            "_view_module_version": "1.2.0",
            "_view_name": "StyleView",
            "bar_color": null,
            "description_width": ""
          }
        },
        "e429b23a3bbd4f72b85ca2c33c9d9d4c": {
          "model_module": "@jupyter-widgets/base",
          "model_name": "LayoutModel",
          "model_module_version": "1.2.0",
          "state": {
            "_model_module": "@jupyter-widgets/base",
            "_model_module_version": "1.2.0",
            "_model_name": "LayoutModel",
            "_view_count": null,
            "_view_module": "@jupyter-widgets/base",
            "_view_module_version": "1.2.0",
            "_view_name": "LayoutView",
            "align_content": null,
            "align_items": null,
            "align_self": null,
            "border": null,
            "bottom": null,
            "display": null,
            "flex": null,
            "flex_flow": null,
            "grid_area": null,
            "grid_auto_columns": null,
            "grid_auto_flow": null,
            "grid_auto_rows": null,
            "grid_column": null,
            "grid_gap": null,
            "grid_row": null,
            "grid_template_areas": null,
            "grid_template_columns": null,
            "grid_template_rows": null,
            "height": null,
            "justify_content": null,
            "justify_items": null,
            "left": null,
            "margin": null,
            "max_height": null,
            "max_width": null,
            "min_height": null,
            "min_width": null,
            "object_fit": null,
            "object_position": null,
            "order": null,
            "overflow": null,
            "overflow_x": null,
            "overflow_y": null,
            "padding": null,
            "right": null,
            "top": null,
            "visibility": null,
            "width": null
          }
        },
        "ad27e40e93d94a3bae3a7e9e7ba6482a": {
          "model_module": "@jupyter-widgets/controls",
          "model_name": "DescriptionStyleModel",
          "model_module_version": "1.5.0",
          "state": {
            "_model_module": "@jupyter-widgets/controls",
            "_model_module_version": "1.5.0",
            "_model_name": "DescriptionStyleModel",
            "_view_count": null,
            "_view_module": "@jupyter-widgets/base",
            "_view_module_version": "1.2.0",
            "_view_name": "StyleView",
            "description_width": ""
          }
        },
        "d0e840f4f6a744bfaa4b4e86a1631b1e": {
          "model_module": "@jupyter-widgets/controls",
          "model_name": "HBoxModel",
          "model_module_version": "1.5.0",
          "state": {
            "_dom_classes": [],
            "_model_module": "@jupyter-widgets/controls",
            "_model_module_version": "1.5.0",
            "_model_name": "HBoxModel",
            "_view_count": null,
            "_view_module": "@jupyter-widgets/controls",
            "_view_module_version": "1.5.0",
            "_view_name": "HBoxView",
            "box_style": "",
            "children": [
              "IPY_MODEL_f7e955375f874818a118a631120716a5",
              "IPY_MODEL_db2c8b07dc19496385551fc84c2893b6",
              "IPY_MODEL_41988f750da543f3a37bafabe719a62e"
            ],
            "layout": "IPY_MODEL_ca554240e4b94d2b97dd72d904140727"
          }
        },
        "f7e955375f874818a118a631120716a5": {
          "model_module": "@jupyter-widgets/controls",
          "model_name": "HTMLModel",
          "model_module_version": "1.5.0",
          "state": {
            "_dom_classes": [],
            "_model_module": "@jupyter-widgets/controls",
            "_model_module_version": "1.5.0",
            "_model_name": "HTMLModel",
            "_view_count": null,
            "_view_module": "@jupyter-widgets/controls",
            "_view_module_version": "1.5.0",
            "_view_name": "HTMLView",
            "description": "",
            "description_tooltip": null,
            "layout": "IPY_MODEL_f2eb83300342400a90864773280ff1c4",
            "placeholder": "​",
            "style": "IPY_MODEL_f45171980f1b4b0cbd04fcdf0ea71f8c",
            "value": "Shuffling /root/tensorflow_datasets/fashion_mnist/incomplete.N8R9GE_3.0.1/fashion_mnist-test.tfrecord*...:   0%"
          }
        },
        "db2c8b07dc19496385551fc84c2893b6": {
          "model_module": "@jupyter-widgets/controls",
          "model_name": "FloatProgressModel",
          "model_module_version": "1.5.0",
          "state": {
            "_dom_classes": [],
            "_model_module": "@jupyter-widgets/controls",
            "_model_module_version": "1.5.0",
            "_model_name": "FloatProgressModel",
            "_view_count": null,
            "_view_module": "@jupyter-widgets/controls",
            "_view_module_version": "1.5.0",
            "_view_name": "ProgressView",
            "bar_style": "",
            "description": "",
            "description_tooltip": null,
            "layout": "IPY_MODEL_44b14c468f1f43e68bcf428a5690c1ec",
            "max": 10000,
            "min": 0,
            "orientation": "horizontal",
            "style": "IPY_MODEL_ba3d96aaebfd4c499525543a4c3c20a9",
            "value": 10000
          }
        },
        "41988f750da543f3a37bafabe719a62e": {
          "model_module": "@jupyter-widgets/controls",
          "model_name": "HTMLModel",
          "model_module_version": "1.5.0",
          "state": {
            "_dom_classes": [],
            "_model_module": "@jupyter-widgets/controls",
            "_model_module_version": "1.5.0",
            "_model_name": "HTMLModel",
            "_view_count": null,
            "_view_module": "@jupyter-widgets/controls",
            "_view_module_version": "1.5.0",
            "_view_name": "HTMLView",
            "description": "",
            "description_tooltip": null,
            "layout": "IPY_MODEL_ba4ad8f425d148018b51d5f72ce33adb",
            "placeholder": "​",
            "style": "IPY_MODEL_230fc3b8c63b4cddaabeef35afd4e173",
            "value": " 0/10000 [00:00&lt;?, ? examples/s]"
          }
        },
        "ca554240e4b94d2b97dd72d904140727": {
          "model_module": "@jupyter-widgets/base",
          "model_name": "LayoutModel",
          "model_module_version": "1.2.0",
          "state": {
            "_model_module": "@jupyter-widgets/base",
            "_model_module_version": "1.2.0",
            "_model_name": "LayoutModel",
            "_view_count": null,
            "_view_module": "@jupyter-widgets/base",
            "_view_module_version": "1.2.0",
            "_view_name": "LayoutView",
            "align_content": null,
            "align_items": null,
            "align_self": null,
            "border": null,
            "bottom": null,
            "display": null,
            "flex": null,
            "flex_flow": null,
            "grid_area": null,
            "grid_auto_columns": null,
            "grid_auto_flow": null,
            "grid_auto_rows": null,
            "grid_column": null,
            "grid_gap": null,
            "grid_row": null,
            "grid_template_areas": null,
            "grid_template_columns": null,
            "grid_template_rows": null,
            "height": null,
            "justify_content": null,
            "justify_items": null,
            "left": null,
            "margin": null,
            "max_height": null,
            "max_width": null,
            "min_height": null,
            "min_width": null,
            "object_fit": null,
            "object_position": null,
            "order": null,
            "overflow": null,
            "overflow_x": null,
            "overflow_y": null,
            "padding": null,
            "right": null,
            "top": null,
            "visibility": "hidden",
            "width": null
          }
        },
        "f2eb83300342400a90864773280ff1c4": {
          "model_module": "@jupyter-widgets/base",
          "model_name": "LayoutModel",
          "model_module_version": "1.2.0",
          "state": {
            "_model_module": "@jupyter-widgets/base",
            "_model_module_version": "1.2.0",
            "_model_name": "LayoutModel",
            "_view_count": null,
            "_view_module": "@jupyter-widgets/base",
            "_view_module_version": "1.2.0",
            "_view_name": "LayoutView",
            "align_content": null,
            "align_items": null,
            "align_self": null,
            "border": null,
            "bottom": null,
            "display": null,
            "flex": null,
            "flex_flow": null,
            "grid_area": null,
            "grid_auto_columns": null,
            "grid_auto_flow": null,
            "grid_auto_rows": null,
            "grid_column": null,
            "grid_gap": null,
            "grid_row": null,
            "grid_template_areas": null,
            "grid_template_columns": null,
            "grid_template_rows": null,
            "height": null,
            "justify_content": null,
            "justify_items": null,
            "left": null,
            "margin": null,
            "max_height": null,
            "max_width": null,
            "min_height": null,
            "min_width": null,
            "object_fit": null,
            "object_position": null,
            "order": null,
            "overflow": null,
            "overflow_x": null,
            "overflow_y": null,
            "padding": null,
            "right": null,
            "top": null,
            "visibility": null,
            "width": null
          }
        },
        "f45171980f1b4b0cbd04fcdf0ea71f8c": {
          "model_module": "@jupyter-widgets/controls",
          "model_name": "DescriptionStyleModel",
          "model_module_version": "1.5.0",
          "state": {
            "_model_module": "@jupyter-widgets/controls",
            "_model_module_version": "1.5.0",
            "_model_name": "DescriptionStyleModel",
            "_view_count": null,
            "_view_module": "@jupyter-widgets/base",
            "_view_module_version": "1.2.0",
            "_view_name": "StyleView",
            "description_width": ""
          }
        },
        "44b14c468f1f43e68bcf428a5690c1ec": {
          "model_module": "@jupyter-widgets/base",
          "model_name": "LayoutModel",
          "model_module_version": "1.2.0",
          "state": {
            "_model_module": "@jupyter-widgets/base",
            "_model_module_version": "1.2.0",
            "_model_name": "LayoutModel",
            "_view_count": null,
            "_view_module": "@jupyter-widgets/base",
            "_view_module_version": "1.2.0",
            "_view_name": "LayoutView",
            "align_content": null,
            "align_items": null,
            "align_self": null,
            "border": null,
            "bottom": null,
            "display": null,
            "flex": null,
            "flex_flow": null,
            "grid_area": null,
            "grid_auto_columns": null,
            "grid_auto_flow": null,
            "grid_auto_rows": null,
            "grid_column": null,
            "grid_gap": null,
            "grid_row": null,
            "grid_template_areas": null,
            "grid_template_columns": null,
            "grid_template_rows": null,
            "height": null,
            "justify_content": null,
            "justify_items": null,
            "left": null,
            "margin": null,
            "max_height": null,
            "max_width": null,
            "min_height": null,
            "min_width": null,
            "object_fit": null,
            "object_position": null,
            "order": null,
            "overflow": null,
            "overflow_x": null,
            "overflow_y": null,
            "padding": null,
            "right": null,
            "top": null,
            "visibility": null,
            "width": null
          }
        },
        "ba3d96aaebfd4c499525543a4c3c20a9": {
          "model_module": "@jupyter-widgets/controls",
          "model_name": "ProgressStyleModel",
          "model_module_version": "1.5.0",
          "state": {
            "_model_module": "@jupyter-widgets/controls",
            "_model_module_version": "1.5.0",
            "_model_name": "ProgressStyleModel",
            "_view_count": null,
            "_view_module": "@jupyter-widgets/base",
            "_view_module_version": "1.2.0",
            "_view_name": "StyleView",
            "bar_color": null,
            "description_width": ""
          }
        },
        "ba4ad8f425d148018b51d5f72ce33adb": {
          "model_module": "@jupyter-widgets/base",
          "model_name": "LayoutModel",
          "model_module_version": "1.2.0",
          "state": {
            "_model_module": "@jupyter-widgets/base",
            "_model_module_version": "1.2.0",
            "_model_name": "LayoutModel",
            "_view_count": null,
            "_view_module": "@jupyter-widgets/base",
            "_view_module_version": "1.2.0",
            "_view_name": "LayoutView",
            "align_content": null,
            "align_items": null,
            "align_self": null,
            "border": null,
            "bottom": null,
            "display": null,
            "flex": null,
            "flex_flow": null,
            "grid_area": null,
            "grid_auto_columns": null,
            "grid_auto_flow": null,
            "grid_auto_rows": null,
            "grid_column": null,
            "grid_gap": null,
            "grid_row": null,
            "grid_template_areas": null,
            "grid_template_columns": null,
            "grid_template_rows": null,
            "height": null,
            "justify_content": null,
            "justify_items": null,
            "left": null,
            "margin": null,
            "max_height": null,
            "max_width": null,
            "min_height": null,
            "min_width": null,
            "object_fit": null,
            "object_position": null,
            "order": null,
            "overflow": null,
            "overflow_x": null,
            "overflow_y": null,
            "padding": null,
            "right": null,
            "top": null,
            "visibility": null,
            "width": null
          }
        },
        "230fc3b8c63b4cddaabeef35afd4e173": {
          "model_module": "@jupyter-widgets/controls",
          "model_name": "DescriptionStyleModel",
          "model_module_version": "1.5.0",
          "state": {
            "_model_module": "@jupyter-widgets/controls",
            "_model_module_version": "1.5.0",
            "_model_name": "DescriptionStyleModel",
            "_view_count": null,
            "_view_module": "@jupyter-widgets/base",
            "_view_module_version": "1.2.0",
            "_view_name": "StyleView",
            "description_width": ""
          }
        }
      }
    }
  },
  "cells": [
    {
      "cell_type": "markdown",
      "metadata": {
        "id": "view-in-github",
        "colab_type": "text"
      },
      "source": [
        "<a href=\"https://colab.research.google.com/github/Syed-MuhammadTaha/AdvTensorFlowPractice/blob/main/AdvanceTensorflow.ipynb\" target=\"_parent\"><img src=\"https://colab.research.google.com/assets/colab-badge.svg\" alt=\"Open In Colab\"/></a>"
      ]
    },
    {
      "cell_type": "markdown",
      "source": [
        "# Course 1: Custom Model, Layers, Callbacks and Loss function"
      ],
      "metadata": {
        "id": "4My4_87pewfa"
      }
    },
    {
      "cell_type": "markdown",
      "source": [
        "### **Functional API with multiple inputs (Siamese Network)**"
      ],
      "metadata": {
        "id": "HQMSstzVAQJR"
      }
    },
    {
      "cell_type": "code",
      "execution_count": null,
      "metadata": {
        "id": "TsIIXuEXBzR2"
      },
      "outputs": [],
      "source": [
        "import tensorflow as tf\n",
        "from tensorflow import keras\n",
        "from tensorflow.keras import layers\n",
        "import numpy as np\n",
        "import matplotlib.pyplot as plt"
      ]
    },
    {
      "cell_type": "code",
      "source": [
        "def base_network():\n",
        "  input = keras.Input(shape=(28,28,))\n",
        "  x = layers.Flatten()(input)\n",
        "  x = layers.Dense(128, activation='relu')(x)\n",
        "  x = layers.Dropout(0.1)(x)\n",
        "  x = layers.Dense(128, activation='relu')(x)\n",
        "  x = layers.Dropout(0.1)(x)\n",
        "  x = layers.Dense(128, activation='relu')(x)\n",
        "  return keras.Model(inputs=input, outputs=x)"
      ],
      "metadata": {
        "id": "Usx2vyVVAlOh"
      },
      "execution_count": null,
      "outputs": []
    },
    {
      "cell_type": "code",
      "source": [
        "base = base_network()\n",
        "base.summary()"
      ],
      "metadata": {
        "colab": {
          "base_uri": "https://localhost:8080/",
          "height": 353
        },
        "id": "jRD0WBB7A29K",
        "outputId": "a4f8b9e8-307e-4d90-81ef-c505853fd71f"
      },
      "execution_count": null,
      "outputs": [
        {
          "output_type": "display_data",
          "data": {
            "text/plain": [
              "\u001b[1mModel: \"functional\"\u001b[0m\n"
            ],
            "text/html": [
              "<pre style=\"white-space:pre;overflow-x:auto;line-height:normal;font-family:Menlo,'DejaVu Sans Mono',consolas,'Courier New',monospace\"><span style=\"font-weight: bold\">Model: \"functional\"</span>\n",
              "</pre>\n"
            ]
          },
          "metadata": {}
        },
        {
          "output_type": "display_data",
          "data": {
            "text/plain": [
              "┏━━━━━━━━━━━━━━━━━━━━━━━━━━━━━━━━━━━━━━┳━━━━━━━━━━━━━━━━━━━━━━━━━━━━━┳━━━━━━━━━━━━━━━━━┓\n",
              "┃\u001b[1m \u001b[0m\u001b[1mLayer (type)                        \u001b[0m\u001b[1m \u001b[0m┃\u001b[1m \u001b[0m\u001b[1mOutput Shape               \u001b[0m\u001b[1m \u001b[0m┃\u001b[1m \u001b[0m\u001b[1m        Param #\u001b[0m\u001b[1m \u001b[0m┃\n",
              "┡━━━━━━━━━━━━━━━━━━━━━━━━━━━━━━━━━━━━━━╇━━━━━━━━━━━━━━━━━━━━━━━━━━━━━╇━━━━━━━━━━━━━━━━━┩\n",
              "│ input_layer (\u001b[38;5;33mInputLayer\u001b[0m)             │ (\u001b[38;5;45mNone\u001b[0m, \u001b[38;5;34m28\u001b[0m, \u001b[38;5;34m28\u001b[0m)              │               \u001b[38;5;34m0\u001b[0m │\n",
              "├──────────────────────────────────────┼─────────────────────────────┼─────────────────┤\n",
              "│ flatten (\u001b[38;5;33mFlatten\u001b[0m)                    │ (\u001b[38;5;45mNone\u001b[0m, \u001b[38;5;34m784\u001b[0m)                 │               \u001b[38;5;34m0\u001b[0m │\n",
              "├──────────────────────────────────────┼─────────────────────────────┼─────────────────┤\n",
              "│ dense (\u001b[38;5;33mDense\u001b[0m)                        │ (\u001b[38;5;45mNone\u001b[0m, \u001b[38;5;34m128\u001b[0m)                 │         \u001b[38;5;34m100,480\u001b[0m │\n",
              "├──────────────────────────────────────┼─────────────────────────────┼─────────────────┤\n",
              "│ dropout (\u001b[38;5;33mDropout\u001b[0m)                    │ (\u001b[38;5;45mNone\u001b[0m, \u001b[38;5;34m128\u001b[0m)                 │               \u001b[38;5;34m0\u001b[0m │\n",
              "├──────────────────────────────────────┼─────────────────────────────┼─────────────────┤\n",
              "│ dense_1 (\u001b[38;5;33mDense\u001b[0m)                      │ (\u001b[38;5;45mNone\u001b[0m, \u001b[38;5;34m128\u001b[0m)                 │          \u001b[38;5;34m16,512\u001b[0m │\n",
              "├──────────────────────────────────────┼─────────────────────────────┼─────────────────┤\n",
              "│ dropout_1 (\u001b[38;5;33mDropout\u001b[0m)                  │ (\u001b[38;5;45mNone\u001b[0m, \u001b[38;5;34m128\u001b[0m)                 │               \u001b[38;5;34m0\u001b[0m │\n",
              "├──────────────────────────────────────┼─────────────────────────────┼─────────────────┤\n",
              "│ dense_2 (\u001b[38;5;33mDense\u001b[0m)                      │ (\u001b[38;5;45mNone\u001b[0m, \u001b[38;5;34m128\u001b[0m)                 │          \u001b[38;5;34m16,512\u001b[0m │\n",
              "└──────────────────────────────────────┴─────────────────────────────┴─────────────────┘\n"
            ],
            "text/html": [
              "<pre style=\"white-space:pre;overflow-x:auto;line-height:normal;font-family:Menlo,'DejaVu Sans Mono',consolas,'Courier New',monospace\">┏━━━━━━━━━━━━━━━━━━━━━━━━━━━━━━━━━━━━━━┳━━━━━━━━━━━━━━━━━━━━━━━━━━━━━┳━━━━━━━━━━━━━━━━━┓\n",
              "┃<span style=\"font-weight: bold\"> Layer (type)                         </span>┃<span style=\"font-weight: bold\"> Output Shape                </span>┃<span style=\"font-weight: bold\">         Param # </span>┃\n",
              "┡━━━━━━━━━━━━━━━━━━━━━━━━━━━━━━━━━━━━━━╇━━━━━━━━━━━━━━━━━━━━━━━━━━━━━╇━━━━━━━━━━━━━━━━━┩\n",
              "│ input_layer (<span style=\"color: #0087ff; text-decoration-color: #0087ff\">InputLayer</span>)             │ (<span style=\"color: #00d7ff; text-decoration-color: #00d7ff\">None</span>, <span style=\"color: #00af00; text-decoration-color: #00af00\">28</span>, <span style=\"color: #00af00; text-decoration-color: #00af00\">28</span>)              │               <span style=\"color: #00af00; text-decoration-color: #00af00\">0</span> │\n",
              "├──────────────────────────────────────┼─────────────────────────────┼─────────────────┤\n",
              "│ flatten (<span style=\"color: #0087ff; text-decoration-color: #0087ff\">Flatten</span>)                    │ (<span style=\"color: #00d7ff; text-decoration-color: #00d7ff\">None</span>, <span style=\"color: #00af00; text-decoration-color: #00af00\">784</span>)                 │               <span style=\"color: #00af00; text-decoration-color: #00af00\">0</span> │\n",
              "├──────────────────────────────────────┼─────────────────────────────┼─────────────────┤\n",
              "│ dense (<span style=\"color: #0087ff; text-decoration-color: #0087ff\">Dense</span>)                        │ (<span style=\"color: #00d7ff; text-decoration-color: #00d7ff\">None</span>, <span style=\"color: #00af00; text-decoration-color: #00af00\">128</span>)                 │         <span style=\"color: #00af00; text-decoration-color: #00af00\">100,480</span> │\n",
              "├──────────────────────────────────────┼─────────────────────────────┼─────────────────┤\n",
              "│ dropout (<span style=\"color: #0087ff; text-decoration-color: #0087ff\">Dropout</span>)                    │ (<span style=\"color: #00d7ff; text-decoration-color: #00d7ff\">None</span>, <span style=\"color: #00af00; text-decoration-color: #00af00\">128</span>)                 │               <span style=\"color: #00af00; text-decoration-color: #00af00\">0</span> │\n",
              "├──────────────────────────────────────┼─────────────────────────────┼─────────────────┤\n",
              "│ dense_1 (<span style=\"color: #0087ff; text-decoration-color: #0087ff\">Dense</span>)                      │ (<span style=\"color: #00d7ff; text-decoration-color: #00d7ff\">None</span>, <span style=\"color: #00af00; text-decoration-color: #00af00\">128</span>)                 │          <span style=\"color: #00af00; text-decoration-color: #00af00\">16,512</span> │\n",
              "├──────────────────────────────────────┼─────────────────────────────┼─────────────────┤\n",
              "│ dropout_1 (<span style=\"color: #0087ff; text-decoration-color: #0087ff\">Dropout</span>)                  │ (<span style=\"color: #00d7ff; text-decoration-color: #00d7ff\">None</span>, <span style=\"color: #00af00; text-decoration-color: #00af00\">128</span>)                 │               <span style=\"color: #00af00; text-decoration-color: #00af00\">0</span> │\n",
              "├──────────────────────────────────────┼─────────────────────────────┼─────────────────┤\n",
              "│ dense_2 (<span style=\"color: #0087ff; text-decoration-color: #0087ff\">Dense</span>)                      │ (<span style=\"color: #00d7ff; text-decoration-color: #00d7ff\">None</span>, <span style=\"color: #00af00; text-decoration-color: #00af00\">128</span>)                 │          <span style=\"color: #00af00; text-decoration-color: #00af00\">16,512</span> │\n",
              "└──────────────────────────────────────┴─────────────────────────────┴─────────────────┘\n",
              "</pre>\n"
            ]
          },
          "metadata": {}
        },
        {
          "output_type": "display_data",
          "data": {
            "text/plain": [
              "\u001b[1m Total params: \u001b[0m\u001b[38;5;34m133,504\u001b[0m (521.50 KB)\n"
            ],
            "text/html": [
              "<pre style=\"white-space:pre;overflow-x:auto;line-height:normal;font-family:Menlo,'DejaVu Sans Mono',consolas,'Courier New',monospace\"><span style=\"font-weight: bold\"> Total params: </span><span style=\"color: #00af00; text-decoration-color: #00af00\">133,504</span> (521.50 KB)\n",
              "</pre>\n"
            ]
          },
          "metadata": {}
        },
        {
          "output_type": "display_data",
          "data": {
            "text/plain": [
              "\u001b[1m Trainable params: \u001b[0m\u001b[38;5;34m133,504\u001b[0m (521.50 KB)\n"
            ],
            "text/html": [
              "<pre style=\"white-space:pre;overflow-x:auto;line-height:normal;font-family:Menlo,'DejaVu Sans Mono',consolas,'Courier New',monospace\"><span style=\"font-weight: bold\"> Trainable params: </span><span style=\"color: #00af00; text-decoration-color: #00af00\">133,504</span> (521.50 KB)\n",
              "</pre>\n"
            ]
          },
          "metadata": {}
        },
        {
          "output_type": "display_data",
          "data": {
            "text/plain": [
              "\u001b[1m Non-trainable params: \u001b[0m\u001b[38;5;34m0\u001b[0m (0.00 B)\n"
            ],
            "text/html": [
              "<pre style=\"white-space:pre;overflow-x:auto;line-height:normal;font-family:Menlo,'DejaVu Sans Mono',consolas,'Courier New',monospace\"><span style=\"font-weight: bold\"> Non-trainable params: </span><span style=\"color: #00af00; text-decoration-color: #00af00\">0</span> (0.00 B)\n",
              "</pre>\n"
            ]
          },
          "metadata": {}
        }
      ]
    },
    {
      "cell_type": "code",
      "source": [
        "input_1 = keras.Input(shape=(28,28,))\n",
        "input_2 = keras.Input(shape=(28,28,))\n",
        "\n",
        "vec_a = base(input_1)\n",
        "vec_b = base(input_2)\n",
        "\n"
      ],
      "metadata": {
        "id": "UmapUgFOA9XC"
      },
      "execution_count": null,
      "outputs": []
    },
    {
      "cell_type": "code",
      "source": [
        "def euclidean_distance(vectors):\n",
        "  x,y = vectors\n",
        "  sum_square = tf.math.reduce_sum(tf.math.square(x-y), axis=1, keepdims=True)\n",
        "  return tf.math.sqrt(tf.math.maximum(sum_square, tf.keras.backend.epsilon()))\n",
        "\n",
        "def euclidean_shape(shape):\n",
        "  shape_a, shape_b = shape\n",
        "  return (shape_a[0], 1)"
      ],
      "metadata": {
        "id": "f0d_mEFrBoNS"
      },
      "execution_count": null,
      "outputs": []
    },
    {
      "cell_type": "code",
      "source": [
        "output = layers.Lambda(euclidean_distance, output_shape=euclidean_shape)([vec_a, vec_b])"
      ],
      "metadata": {
        "id": "XxZXwHcYCV7l"
      },
      "execution_count": null,
      "outputs": []
    },
    {
      "cell_type": "code",
      "source": [
        "model = keras.Model(inputs=[input_1, input_2], outputs=output)"
      ],
      "metadata": {
        "id": "rEjqwquiCeja"
      },
      "execution_count": null,
      "outputs": []
    },
    {
      "cell_type": "code",
      "source": [
        "# contrastive loss is similar to the triplet loss but a supervised form where pairs of image are labelled 1 or 0 based on their similarity\n",
        "model.compile(loss=contrastive_loss_w_margin(margin=1), optimizer=\"adam\", metrics=[\"accuracy\"])"
      ],
      "metadata": {
        "id": "Dw7ALkH4DEaK"
      },
      "execution_count": null,
      "outputs": []
    },
    {
      "cell_type": "markdown",
      "source": [
        "### **Custom Loss**"
      ],
      "metadata": {
        "id": "5eGFyGcjDmA_"
      }
    },
    {
      "cell_type": "code",
      "source": [
        "# contrastive fromula: Y * D^2 + (1-Y) * max(alpha - D, 0)\n",
        "# Triplet loss: max(euc_dist(A,P) - euc_dist(A,N) + alpha)\n",
        "def contrastive_loss(y_true, y_pred):\n",
        "  margin = 1\n",
        "  square_pred = tf.math.square(y_pred)\n",
        "  margin_square = tf.math.square(tf.math.maximum(margin - (y_pred), 0))\n",
        "  return ((y_true * square_pred) + (1 - y_true) * margin_square)"
      ],
      "metadata": {
        "id": "CAae5ohvDzNg"
      },
      "execution_count": null,
      "outputs": []
    },
    {
      "cell_type": "code",
      "source": [
        "# with hyperparameter\n",
        "def contrastive_loss_w_margin(margin):\n",
        "  def contrastive_loss(y_true, y_pred):\n",
        "    square_pred = tf.math.square(y_pred)\n",
        "    margin_square = tf.math.square(tf.math.maximum(margin - (y_pred), 0))\n",
        "    return ((y_true * square_pred) + (1 - y_true) * margin_square)\n",
        "  return contrastive_loss"
      ],
      "metadata": {
        "id": "dDwndLxqI8Jo"
      },
      "execution_count": null,
      "outputs": []
    },
    {
      "cell_type": "markdown",
      "source": [
        "### **Custom Layers**"
      ],
      "metadata": {
        "id": "u3rK5VUkKk5t"
      }
    },
    {
      "cell_type": "markdown",
      "source": [
        "Lambda Layers"
      ],
      "metadata": {
        "id": "OMNBaZ58LG2W"
      }
    },
    {
      "cell_type": "code",
      "source": [
        "def custom_relu(x):\n",
        "  return tf.math.maximum(0.0, x)"
      ],
      "metadata": {
        "id": "AA9OsTd3K70X"
      },
      "execution_count": null,
      "outputs": []
    },
    {
      "cell_type": "code",
      "source": [
        "model = keras.Sequential([\n",
        "    layers.Flatten(input_shape=(28,28)),\n",
        "    layers.Lambda(custom_relu),\n",
        "    layers.Dropout(0.1),\n",
        "    layers.Dense(128, activation='relu'),\n",
        "])"
      ],
      "metadata": {
        "id": "D6MXRvOdKnBa"
      },
      "execution_count": null,
      "outputs": []
    },
    {
      "cell_type": "markdown",
      "source": [
        "Custom Layer Class"
      ],
      "metadata": {
        "id": "NbDfDNfrLTYM"
      }
    },
    {
      "cell_type": "markdown",
      "source": [
        "Made up of *state* (weights) and *computation* (forward pass)"
      ],
      "metadata": {
        "id": "AQ3_ovSwLkoV"
      }
    },
    {
      "cell_type": "code",
      "source": [
        "class SimpleDense(layers.Layer):\n",
        "  # calling layer counstructor inherited by layers.Layer class which already has w and b instance variables\n",
        "  # adding units and activation instance variables to the constructor\n",
        "  def __init__(self, units=32, activation=None):\n",
        "    super(SimpleDense, self).__init__()\n",
        "    self.units = units\n",
        "    self.activation = tf.keras.activations.get(activation)\n",
        "  # all the code for setting w and b tensors\n",
        "  def build(self, input):\n",
        "    w_init = tf.keras.initializers.GlorotNormal()\n",
        "    b_init = tf.zeros_initializer()\n",
        "    self.w = tf.Variable(name=\"kernel\", initial_value = w_init(shape=(input.shape[-1], self.units), dtype=\"float32\"), trainable=True)\n",
        "    self.b = tf.Variable(name=\"bias\", initial_value = b_init(shape=(self.units,), dtype=\"float32\"), trainable=True)\n",
        "\n",
        "  # computation during forward pass\n",
        "  def call(self, input):\n",
        "    return self.activation(tf.matmul(input, self.w) + self.b)"
      ],
      "metadata": {
        "id": "YEcpyyqYLVZU"
      },
      "execution_count": null,
      "outputs": []
    },
    {
      "cell_type": "markdown",
      "source": [
        "### **Custom Models**"
      ],
      "metadata": {
        "id": "9_Eym9fsuzX9"
      }
    },
    {
      "cell_type": "code",
      "source": [
        "class WideandDeepModel(keras.Model):\n",
        "  def __init__(self, units=30, activation=\"relu\", **kwargs):\n",
        "    super().__init__(**kwargs)\n",
        "    self.hidden1 = layers.Dense(units, activation=activation)\n",
        "    self.hidden2 = layers.Dense(units, activation=activation)\n",
        "    self.main_output = layers.Dense(1)\n",
        "    self.aux_output = layers.Dense(1)\n",
        "  def call(self, inputs):\n",
        "    input_A, input_B = inputs\n",
        "    hidden1 = self.hidden1(input_B)\n",
        "    hidden2 = self.hidden2(hidden1)\n",
        "    concat = keras.layers.concatenate([input_A, hidden2])\n",
        "    main_output = self.main_output(concat)\n",
        "    aux_output = self.aux_output(hidden2)\n",
        "    return main_output, aux_output"
      ],
      "metadata": {
        "id": "iJr-gwXVu1v1"
      },
      "execution_count": null,
      "outputs": []
    },
    {
      "cell_type": "markdown",
      "source": [
        "### **Custom Callbacks**"
      ],
      "metadata": {
        "id": "MguX3bAL2ZJl"
      }
    },
    {
      "cell_type": "code",
      "source": [
        "class EarlyStopping(keras.callback.CallBack):\n",
        "  def __init__(self, patience=0):\n",
        "    super(EarlyStopping, self).__init__()\n",
        "    self.patience = patience\n",
        "  def on_epoch_end(self, epoch, logs=None):\n",
        "    if logs.get(\"accuracy\") > 0.99:\n",
        "      print(\"Reached 99% accuracy so cancelling training!\")\n",
        "      self.model.stop_training = True"
      ],
      "metadata": {
        "id": "zK5XEz3I2cQM"
      },
      "execution_count": null,
      "outputs": []
    },
    {
      "cell_type": "markdown",
      "source": [
        "# Course 2: Custom and Distributed training"
      ],
      "metadata": {
        "id": "uTyYjpzJfbB4"
      }
    },
    {
      "cell_type": "markdown",
      "source": [
        "### **Tensors**"
      ],
      "metadata": {
        "id": "3k9w7ItHg1gf"
      }
    },
    {
      "cell_type": "code",
      "source": [
        "# mode.variables can be used to to check all the models variabls. We can note that it has kernel and bias\n",
        "model = tf.keras.Sequential([keras.layers.Dense(1, input_shape=[1])])\n",
        "model.variables"
      ],
      "metadata": {
        "colab": {
          "base_uri": "https://localhost:8080/"
        },
        "id": "XH4AOB-DfnMW",
        "outputId": "adbabc99-2396-4421-e24b-e6f95a9bec2b"
      },
      "execution_count": 5,
      "outputs": [
        {
          "output_type": "stream",
          "name": "stderr",
          "text": [
            "/usr/local/lib/python3.10/dist-packages/keras/src/layers/core/dense.py:87: UserWarning: Do not pass an `input_shape`/`input_dim` argument to a layer. When using Sequential models, prefer using an `Input(shape)` object as the first layer in the model instead.\n",
            "  super().__init__(activity_regularizer=activity_regularizer, **kwargs)\n"
          ]
        },
        {
          "output_type": "execute_result",
          "data": {
            "text/plain": [
              "[<KerasVariable shape=(1, 1), dtype=float32, path=sequential/dense/kernel>,\n",
              " <KerasVariable shape=(1,), dtype=float32, path=sequential/dense/bias>]"
            ]
          },
          "metadata": {},
          "execution_count": 5
        }
      ]
    },
    {
      "cell_type": "code",
      "source": [
        "# cannot reshape variables during definition but tf.Constant can\n",
        "tf.Variable([10,1,2,3], shape=(2,2), dtype=tf.float32)"
      ],
      "metadata": {
        "colab": {
          "base_uri": "https://localhost:8080/",
          "height": 299
        },
        "id": "HqKuHnIHgz9u",
        "outputId": "f15f78a7-afc4-4242-ebaf-c50ece61fb15"
      },
      "execution_count": 6,
      "outputs": [
        {
          "output_type": "error",
          "ename": "ValueError",
          "evalue": "In this `tf.Variable` creation, the initial value's shape ((4,)) is not compatible with the explicitly supplied `shape` argument ((2, 2)).",
          "traceback": [
            "\u001b[0;31m---------------------------------------------------------------------------\u001b[0m",
            "\u001b[0;31mValueError\u001b[0m                                Traceback (most recent call last)",
            "\u001b[0;32m<ipython-input-6-73e97d4872e9>\u001b[0m in \u001b[0;36m<cell line: 1>\u001b[0;34m()\u001b[0m\n\u001b[0;32m----> 1\u001b[0;31m \u001b[0mtf\u001b[0m\u001b[0;34m.\u001b[0m\u001b[0mVariable\u001b[0m\u001b[0;34m(\u001b[0m\u001b[0;34m[\u001b[0m\u001b[0;36m10\u001b[0m\u001b[0;34m,\u001b[0m\u001b[0;36m1\u001b[0m\u001b[0;34m,\u001b[0m\u001b[0;36m2\u001b[0m\u001b[0;34m,\u001b[0m\u001b[0;36m3\u001b[0m\u001b[0;34m]\u001b[0m\u001b[0;34m,\u001b[0m \u001b[0mshape\u001b[0m\u001b[0;34m=\u001b[0m\u001b[0;34m(\u001b[0m\u001b[0;36m2\u001b[0m\u001b[0;34m,\u001b[0m\u001b[0;36m2\u001b[0m\u001b[0;34m)\u001b[0m\u001b[0;34m,\u001b[0m \u001b[0mdtype\u001b[0m\u001b[0;34m=\u001b[0m\u001b[0mtf\u001b[0m\u001b[0;34m.\u001b[0m\u001b[0mfloat32\u001b[0m\u001b[0;34m)\u001b[0m\u001b[0;34m\u001b[0m\u001b[0;34m\u001b[0m\u001b[0m\n\u001b[0m",
            "\u001b[0;32m/usr/local/lib/python3.10/dist-packages/tensorflow/python/util/traceback_utils.py\u001b[0m in \u001b[0;36merror_handler\u001b[0;34m(*args, **kwargs)\u001b[0m\n\u001b[1;32m    151\u001b[0m     \u001b[0;32mexcept\u001b[0m \u001b[0mException\u001b[0m \u001b[0;32mas\u001b[0m \u001b[0me\u001b[0m\u001b[0;34m:\u001b[0m\u001b[0;34m\u001b[0m\u001b[0;34m\u001b[0m\u001b[0m\n\u001b[1;32m    152\u001b[0m       \u001b[0mfiltered_tb\u001b[0m \u001b[0;34m=\u001b[0m \u001b[0m_process_traceback_frames\u001b[0m\u001b[0;34m(\u001b[0m\u001b[0me\u001b[0m\u001b[0;34m.\u001b[0m\u001b[0m__traceback__\u001b[0m\u001b[0;34m)\u001b[0m\u001b[0;34m\u001b[0m\u001b[0;34m\u001b[0m\u001b[0m\n\u001b[0;32m--> 153\u001b[0;31m       \u001b[0;32mraise\u001b[0m \u001b[0me\u001b[0m\u001b[0;34m.\u001b[0m\u001b[0mwith_traceback\u001b[0m\u001b[0;34m(\u001b[0m\u001b[0mfiltered_tb\u001b[0m\u001b[0;34m)\u001b[0m \u001b[0;32mfrom\u001b[0m \u001b[0;32mNone\u001b[0m\u001b[0;34m\u001b[0m\u001b[0;34m\u001b[0m\u001b[0m\n\u001b[0m\u001b[1;32m    154\u001b[0m     \u001b[0;32mfinally\u001b[0m\u001b[0;34m:\u001b[0m\u001b[0;34m\u001b[0m\u001b[0;34m\u001b[0m\u001b[0m\n\u001b[1;32m    155\u001b[0m       \u001b[0;32mdel\u001b[0m \u001b[0mfiltered_tb\u001b[0m\u001b[0;34m\u001b[0m\u001b[0;34m\u001b[0m\u001b[0m\n",
            "\u001b[0;32m/usr/local/lib/python3.10/dist-packages/tensorflow/python/ops/resource_variable_ops.py\u001b[0m in \u001b[0;36m_init_from_args\u001b[0;34m(self, initial_value, trainable, collections, caching_device, name, dtype, constraint, synchronization, aggregation, distribute_strategy, shape, validate_shape, experimental_enable_variable_lifting)\u001b[0m\n\u001b[1;32m   2064\u001b[0m           \u001b[0;32mif\u001b[0m \u001b[0mshape\u001b[0m \u001b[0;32mis\u001b[0m \u001b[0;32mnot\u001b[0m \u001b[0;32mNone\u001b[0m\u001b[0;34m:\u001b[0m\u001b[0;34m\u001b[0m\u001b[0;34m\u001b[0m\u001b[0m\n\u001b[1;32m   2065\u001b[0m             \u001b[0;32mif\u001b[0m \u001b[0;32mnot\u001b[0m \u001b[0minitial_value\u001b[0m\u001b[0;34m.\u001b[0m\u001b[0mshape\u001b[0m\u001b[0;34m.\u001b[0m\u001b[0mis_compatible_with\u001b[0m\u001b[0;34m(\u001b[0m\u001b[0mshape\u001b[0m\u001b[0;34m)\u001b[0m\u001b[0;34m:\u001b[0m\u001b[0;34m\u001b[0m\u001b[0;34m\u001b[0m\u001b[0m\n\u001b[0;32m-> 2066\u001b[0;31m               raise ValueError(\n\u001b[0m\u001b[1;32m   2067\u001b[0m                   \u001b[0;34mf\"In this `tf.Variable` creation, the initial value's shape \"\u001b[0m\u001b[0;34m\u001b[0m\u001b[0;34m\u001b[0m\u001b[0m\n\u001b[1;32m   2068\u001b[0m                   \u001b[0;34mf\"({initial_value.shape}) is not compatible with \"\u001b[0m\u001b[0;34m\u001b[0m\u001b[0;34m\u001b[0m\u001b[0m\n",
            "\u001b[0;31mValueError\u001b[0m: In this `tf.Variable` creation, the initial value's shape ((4,)) is not compatible with the explicitly supplied `shape` argument ((2, 2))."
          ]
        }
      ]
    },
    {
      "cell_type": "markdown",
      "source": [
        "### **Gradient Tape**"
      ],
      "metadata": {
        "id": "DH2Lpa1CjXJV"
      }
    },
    {
      "cell_type": "code",
      "source": [
        "x_train = np.array([-1,0,1,2,3,4,5,6,7,8,9], dtype = float)\n",
        "y_train = np.array([-3,-1,1,3,5,7,9,11,13,15,17], dtype = float)\n",
        "\n",
        "w= tf.Variable(0.0, trainable=True)\n",
        "b= tf.Variable(0.0, trainable=True)"
      ],
      "metadata": {
        "id": "2MOdHmg4jdOo"
      },
      "execution_count": 7,
      "outputs": []
    },
    {
      "cell_type": "code",
      "source": [
        "def loss(y_true, y_pred):\n",
        "  return tf.reduce_mean(tf.square(y_true - y_pred))\n",
        "\n",
        "learning_rate = 0.01"
      ],
      "metadata": {
        "id": "X4UQcIizj1o1"
      },
      "execution_count": null,
      "outputs": []
    },
    {
      "cell_type": "code",
      "source": [
        "# persistent=true doesnot dispose off the gradients afte one calculation of gradients\n",
        "def train_data(real_x, real_y):\n",
        "  with tf.GradientTape(persistent=True) as t:\n",
        "    y_pred = w * real_x + b\n",
        "    current_loss = loss(real_y, y_pred)\n",
        "  dw, db = t.gradient(current_loss, [w,b])\n",
        "  w.assign_sub(learning_rate * dw)\n",
        "  b.assign_sub(learning_rate * db)"
      ],
      "metadata": {
        "id": "ke6YhDHNkCT2"
      },
      "execution_count": 9,
      "outputs": []
    },
    {
      "cell_type": "code",
      "source": [
        "for epoch in range(500):\n",
        "  train_data(x_train, y_train)"
      ],
      "metadata": {
        "id": "lElZMI32kohg"
      },
      "execution_count": 10,
      "outputs": []
    },
    {
      "cell_type": "code",
      "source": [
        "print(w)"
      ],
      "metadata": {
        "id": "uk8zha61k2Fo",
        "outputId": "1437205b-70a6-4cf8-c1b6-1990b7dbb01a",
        "colab": {
          "base_uri": "https://localhost:8080/"
        }
      },
      "execution_count": 11,
      "outputs": [
        {
          "output_type": "stream",
          "name": "stdout",
          "text": [
            "<tf.Variable 'Variable:0' shape=() dtype=float32, numpy=1.995391>\n"
          ]
        }
      ]
    },
    {
      "cell_type": "markdown",
      "source": [
        "### **Custom Training Loops**"
      ],
      "metadata": {
        "id": "xjtKsgQ4l2y2"
      }
    },
    {
      "cell_type": "code",
      "source": [
        "import tensorflow_datasets as tfds"
      ],
      "metadata": {
        "id": "959qXgsUoU4Z"
      },
      "execution_count": 13,
      "outputs": []
    },
    {
      "cell_type": "code",
      "source": [
        "# define the base model\n",
        "def base_model():\n",
        "  inputs = keras.Input(shape=(784, ), name=\"clothing\")\n",
        "  x = layers.Dense(64, activation=\"relu\", name=\"dense_1\")(inputs)\n",
        "  x = layers.Dense(64, activation=\"relu\", name=\"dense_2\")(x)\n",
        "  outputs = layers.Dense(10, activation=\"softmax\", name=\"predictions\")(x)\n",
        "  model = keras.Model(inputs=inputs, outputs=outputs)\n",
        "  return model"
      ],
      "metadata": {
        "id": "T-p4aD1Cl-Ko"
      },
      "execution_count": 12,
      "outputs": []
    },
    {
      "cell_type": "code",
      "source": [
        "# use tfds dataset to create dataset.Data API\n",
        "train_dataset= tfds.load(\"fashion_mnist\", split=\"train\")\n",
        "test_dataset = tfds.load(\"fashion_mnist\", split=\"test\")"
      ],
      "metadata": {
        "id": "uAUaBM3foJ5u",
        "outputId": "1541f2d9-f6ae-4904-9532-91742fe20343",
        "colab": {
          "base_uri": "https://localhost:8080/",
          "height": 167,
          "referenced_widgets": [
            "5a531920aa4a4151a7019f5926b03d24",
            "ae4598cadc2240828fe47eb4e2a5bc9a",
            "cbf8425c1a514ea7bdefccf8445e770c",
            "b1b2de10215a47fa88c340441a93ec24",
            "bff28ecb897e43a99deb0cb16a9b1edc",
            "d0990af1cd4146528f02301f0a8a6ebf",
            "9a84199e5df8469bafe33f6520e2e31f",
            "fd98274a170240648534097afacec561",
            "ee22a60ecbc0466d99fbd337d646b127",
            "0576cd5610a74f2184b61decd2493dbb",
            "87ae4bdc8bc44f24883e72a802c31f0f",
            "e397a166669949cb9e5b55174db2d767",
            "fa72f18cd92f4daaadcf8761303de244",
            "c5f06a09232548edaa50492da905f36c",
            "554c6430022040429985c290833f2ed4",
            "f0b65860e1a44a2ca400e2229e60df47",
            "dfdb1c6d0e2a440693b929db5969ff6b",
            "9add4e99977e4575b8ee74e1fce8d10d",
            "64ce0bc8aab043ec91bda22c2c41fa30",
            "3665eb2c3c9b437ebe72f01c8952f128",
            "17fa8c03f9a34df7b8faf6f5463b630e",
            "70574e5bf7ae40308f5520056c855f4a",
            "d9a80e72c8da418aa7823474c0cd0a51",
            "07f2bf6c0e3843b89501ca42e0941ed4",
            "5b43997d50164dd882bc357ee585992b",
            "83ad91bdfe0a476598fcce6394a81ac8",
            "d39edf81127a4b99bc7a8637be2e7f1b",
            "c92ef86fdf344edbaf40b5c48dbb74be",
            "47b70740e2194a06bb52ecee9e7227a4",
            "98771b057fbe441182b97a72da061340",
            "32650515d46842e1821009ae9af8c6b4",
            "7907c318ad8845bebaf15229969a8d67",
            "f4651299bb04437b81f723cc1f79c25d",
            "8016f84d8a3f47bca5b3d01994dd91b0",
            "51737ea44cc04b668ed63d5bc5d9513d",
            "e5efa628773f403199cf5b440445d587",
            "397ac913e97c45bcb63ad8a9302b0fc2",
            "d8825c844a724d55ab65c54dd7da81b0",
            "647d10a02a83478e84a912e46736282c",
            "f069e09d68d247d590ef17a8ac57d8da",
            "6190b1d171c2499797da30ea317e8bb7",
            "bc66ab589b134046b9714cf508c2a648",
            "f301fd08071e4f5daa8bf2e42f28911d",
            "fb16f296117942a8a42abbd69d6f2da0",
            "aec74d38b02f40538b7ddd25ef204537",
            "ce68f840cf2445219310ced633696f97",
            "8b3a318dda1b4ed48cf3adfe00f7e696",
            "f669841f6d494cf5bf6190182871aafa",
            "f922c817d7f941a894b784f75f642cda",
            "4cb0cb3cc9454e7f9262a89705d0f1d0",
            "53d1e67ba3c04a0aae493e6eded49479",
            "f9faadd5956f4d49ac770e89c6980bcc",
            "79a8c95caa754bff9fc42392a8888f50",
            "9c97f86ecb3f469b8aa1e815b40afcb8",
            "d7d16f3e894b497c936a95676a5831d1",
            "19089934342b4abaa7edf50351344ddc",
            "efb1654b53b34d31ab21014a46c8fcec",
            "202f367623ed41a68e1278abc22f860f",
            "06172c93134240d5b010d6a5d9e8d887",
            "00473f9b36b34913b3bfca00bd1552b6",
            "1d550882fc8045778124c57d78fa9585",
            "3ef673b55f1f41888703154a1d8e10a2",
            "7b6c52baa65246f298e0f1f79f771b07",
            "8db26d6983f349c4ba081aff9a74eca4",
            "dd4b75f8a3a541178b5a2f3fff93eb80",
            "f00168cc1915461ca2de1fe641e8313d",
            "b46c57bb91cc41878ca757911cc02813",
            "9074a8bb154e4992ae0059dbc0fef87e",
            "e3408d6d5449432ba47dfc9ce5393281",
            "86e5bad884364677ac2a5071a675aa97",
            "cb7f823e77594d6f9b631d6c0e32ae4f",
            "1a81d72e86a545d8885c2fb50dc9b54f",
            "d507a1b7278548bf9733fb5432ee8241",
            "a50ed1aa01d4405d9c6b0389028dad51",
            "a6d52b34557a4d4da2da4bc9b5cd69d5",
            "e429b23a3bbd4f72b85ca2c33c9d9d4c",
            "ad27e40e93d94a3bae3a7e9e7ba6482a",
            "d0e840f4f6a744bfaa4b4e86a1631b1e",
            "f7e955375f874818a118a631120716a5",
            "db2c8b07dc19496385551fc84c2893b6",
            "41988f750da543f3a37bafabe719a62e",
            "ca554240e4b94d2b97dd72d904140727",
            "f2eb83300342400a90864773280ff1c4",
            "f45171980f1b4b0cbd04fcdf0ea71f8c",
            "44b14c468f1f43e68bcf428a5690c1ec",
            "ba3d96aaebfd4c499525543a4c3c20a9",
            "ba4ad8f425d148018b51d5f72ce33adb",
            "230fc3b8c63b4cddaabeef35afd4e173"
          ]
        }
      },
      "execution_count": 15,
      "outputs": [
        {
          "output_type": "stream",
          "name": "stdout",
          "text": [
            "Downloading and preparing dataset 29.45 MiB (download: 29.45 MiB, generated: 36.42 MiB, total: 65.87 MiB) to /root/tensorflow_datasets/fashion_mnist/3.0.1...\n"
          ]
        },
        {
          "output_type": "display_data",
          "data": {
            "text/plain": [
              "Dl Completed...: 0 url [00:00, ? url/s]"
            ],
            "application/vnd.jupyter.widget-view+json": {
              "version_major": 2,
              "version_minor": 0,
              "model_id": "5a531920aa4a4151a7019f5926b03d24"
            }
          },
          "metadata": {}
        },
        {
          "output_type": "display_data",
          "data": {
            "text/plain": [
              "Dl Size...: 0 MiB [00:00, ? MiB/s]"
            ],
            "application/vnd.jupyter.widget-view+json": {
              "version_major": 2,
              "version_minor": 0,
              "model_id": "e397a166669949cb9e5b55174db2d767"
            }
          },
          "metadata": {}
        },
        {
          "output_type": "display_data",
          "data": {
            "text/plain": [
              "Extraction completed...: 0 file [00:00, ? file/s]"
            ],
            "application/vnd.jupyter.widget-view+json": {
              "version_major": 2,
              "version_minor": 0,
              "model_id": "d9a80e72c8da418aa7823474c0cd0a51"
            }
          },
          "metadata": {}
        },
        {
          "output_type": "display_data",
          "data": {
            "text/plain": [
              "Generating splits...:   0%|          | 0/2 [00:00<?, ? splits/s]"
            ],
            "application/vnd.jupyter.widget-view+json": {
              "version_major": 2,
              "version_minor": 0,
              "model_id": "8016f84d8a3f47bca5b3d01994dd91b0"
            }
          },
          "metadata": {}
        },
        {
          "output_type": "display_data",
          "data": {
            "text/plain": [
              "Generating train examples...:   0%|          | 0/60000 [00:00<?, ? examples/s]"
            ],
            "application/vnd.jupyter.widget-view+json": {
              "version_major": 2,
              "version_minor": 0,
              "model_id": "aec74d38b02f40538b7ddd25ef204537"
            }
          },
          "metadata": {}
        },
        {
          "output_type": "display_data",
          "data": {
            "text/plain": [
              "Shuffling /root/tensorflow_datasets/fashion_mnist/incomplete.N8R9GE_3.0.1/fashion_mnist-train.tfrecord*...:   …"
            ],
            "application/vnd.jupyter.widget-view+json": {
              "version_major": 2,
              "version_minor": 0,
              "model_id": "19089934342b4abaa7edf50351344ddc"
            }
          },
          "metadata": {}
        },
        {
          "output_type": "display_data",
          "data": {
            "text/plain": [
              "Generating test examples...:   0%|          | 0/10000 [00:00<?, ? examples/s]"
            ],
            "application/vnd.jupyter.widget-view+json": {
              "version_major": 2,
              "version_minor": 0,
              "model_id": "b46c57bb91cc41878ca757911cc02813"
            }
          },
          "metadata": {}
        },
        {
          "output_type": "display_data",
          "data": {
            "text/plain": [
              "Shuffling /root/tensorflow_datasets/fashion_mnist/incomplete.N8R9GE_3.0.1/fashion_mnist-test.tfrecord*...:   0…"
            ],
            "application/vnd.jupyter.widget-view+json": {
              "version_major": 2,
              "version_minor": 0,
              "model_id": "d0e840f4f6a744bfaa4b4e86a1631b1e"
            }
          },
          "metadata": {}
        },
        {
          "output_type": "stream",
          "name": "stdout",
          "text": [
            "Dataset fashion_mnist downloaded and prepared to /root/tensorflow_datasets/fashion_mnist/3.0.1. Subsequent calls will reuse this data.\n"
          ]
        }
      ]
    },
    {
      "cell_type": "code",
      "source": [
        "# define the pre-process function which will be used by .map function of the Data API\n",
        "def preprocess(data):\n",
        "  x = data[\"image\"]\n",
        "  y = data[\"label\"]\n",
        "  x = tf.reshape(x, [-1])\n",
        "  x = tf.cast(x, tf.float32)\n",
        "  x /= 255.0\n",
        "  return x, y"
      ],
      "metadata": {
        "id": "ZU7ZKmxHzTFx"
      },
      "execution_count": 17,
      "outputs": []
    },
    {
      "cell_type": "code",
      "source": [
        "# using shuffle, prefetch, repeat and batch functions from Data API\n",
        "batch_size = 64\n",
        "train_data = train_dataset.map(preprocess)\n",
        "test_data = test_dataset.map(preprocess)\n",
        "train_data = train_data.shuffle(buffer_size=1024).batch(batch_size)\n",
        "test_data = test_data.batch(batch_size)"
      ],
      "metadata": {
        "id": "yy4ySgM7z6Pd"
      },
      "execution_count": 18,
      "outputs": []
    },
    {
      "cell_type": "code",
      "source": [
        "# specifying loss and cost functions\n",
        "loss = tf.keras.losses.SparseCategoricalCrossentropy()\n",
        "optimizer = tf.keras.optimizers.Adam()"
      ],
      "metadata": {
        "id": "Ik1FAldy0Z2e"
      },
      "execution_count": 19,
      "outputs": []
    },
    {
      "cell_type": "code",
      "source": [
        "# train and test accuracy\n",
        "train_acc_metric = tf.keras.metrics.SparseCategoricalAccuracy()\n",
        "test_acc_metric = tf.keras.metrics.SparseCategoricalAccuracy()"
      ],
      "metadata": {
        "id": "ZfiNpVQ74pov"
      },
      "execution_count": 22,
      "outputs": []
    },
    {
      "cell_type": "code",
      "source": [
        "model= base_model()"
      ],
      "metadata": {
        "id": "18qI6lal155Q"
      },
      "execution_count": 20,
      "outputs": []
    },
    {
      "cell_type": "code",
      "source": [
        "# defining custom loop for each epoch\n",
        "def train_data_for_one_epoch():\n",
        "  # noting loss for each batch\n",
        "  losses = []\n",
        "  # iterating through all batches: pair (x_batch, y_batch) stores info of all entries in a single batch on each iter, while step is the sample number in each batch\n",
        "  for step, (x_batch, y_batch) in enumerate(train_data):\n",
        "    with tf.GradientTape() as tape:\n",
        "      # computing softmax outpu of the whole batch\n",
        "      logits = model(x_batch)\n",
        "      # computing batch loss\n",
        "      loss_value = loss(y_batch, logits)\n",
        "    # computing gradients during backprop\n",
        "    grads = tape.gradient(loss_value, model.trainable_weights)\n",
        "    # applying adam optimization to the gradints\n",
        "    # If grads = [grad_W1, grad_W2] and model.trainable_weights = [W1, W2], then zip(grads, model.trainable_weights) will pair them like [(grad_W1, W1), (grad_W2, W2)].\n",
        "    optimizer.apply_gradients(zip(grads, model.trainable_weights))\n",
        "    losses.append(loss_value)\n",
        "    train_acc_metric(y_batch, logits)\n",
        "    if step % 100 == 0:\n",
        "      print(\"Loss at step %d: %.4f\" % (step, float(loss_value)))\n",
        "  return losses"
      ],
      "metadata": {
        "id": "DK0VR7Aj1A-u"
      },
      "execution_count": 24,
      "outputs": []
    },
    {
      "cell_type": "code",
      "source": [
        "def perform_validation():\n",
        "  losses = []\n",
        "  for x_val, y_val in test_data:\n",
        "    val_logits = model(x_val)\n",
        "    val_loss = loss(y_val, val_logits)\n",
        "    losses.append(val_loss)\n",
        "    test_acc_metric(y_val, val_logits)\n",
        "  print(\"Validation Loss: %.4f\" % float(tf.reduce_mean(losses)))\n",
        "  return losses"
      ],
      "metadata": {
        "id": "rO8SdSn325i-"
      },
      "execution_count": 25,
      "outputs": []
    },
    {
      "cell_type": "code",
      "source": [
        "\n",
        "epochs = 20\n",
        "epoch_train_losses = []\n",
        "epoch_val_losses = []\n",
        "for epoch in range(epochs):\n",
        "  losses_train = train_data_for_one_epoch()\n",
        "  train_acc = train_acc_metric.result()\n",
        "  print(\"Training acc over epoch: %.4f\" % float(train_acc))\n",
        "  losses_val = perform_validation()\n",
        "  test_acc = test_acc_metric.result()\n",
        "  print(\"Testing acc over epoch: %.4f\" % float(test_acc))\n",
        "\n",
        "  loss_train_mean = tf.reduce_mean(losses_train)\n",
        "  loss_val_mean = tf.reduce_mean(losses_val)\n",
        "\n",
        "  epoch_train_losses.append(loss_train_mean)\n",
        "  epoch_val_losses.append(loss_val_mean)\n",
        "  train_acc_metric.reset_state()\n",
        "  test_acc_metric.reset_state()\n",
        "\n"
      ],
      "metadata": {
        "id": "-ReSbQRP0jvb",
        "outputId": "7ac593d7-728c-43d6-8e73-97d48ed22f6e",
        "colab": {
          "base_uri": "https://localhost:8080/"
        }
      },
      "execution_count": 29,
      "outputs": [
        {
          "output_type": "stream",
          "name": "stdout",
          "text": [
            "Loss at step 0: 0.0891\n",
            "Loss at step 100: 0.1395\n",
            "Loss at step 200: 0.1790\n",
            "Loss at step 300: 0.1743\n",
            "Loss at step 400: 0.2322\n",
            "Loss at step 500: 0.2787\n",
            "Loss at step 600: 0.2560\n",
            "Loss at step 700: 0.1485\n",
            "Loss at step 800: 0.1130\n",
            "Loss at step 900: 0.1226\n",
            "Training acc over epoch: 0.9065\n",
            "Validation Loss: 0.3990\n",
            "Testing acc over epoch: 0.8775\n",
            "Loss at step 0: 0.2336\n",
            "Loss at step 100: 0.1428\n",
            "Loss at step 200: 0.3257\n",
            "Loss at step 300: 0.2468\n",
            "Loss at step 400: 0.1035\n",
            "Loss at step 500: 0.1066\n",
            "Loss at step 600: 0.1222\n",
            "Loss at step 700: 0.0910\n",
            "Loss at step 800: 0.1898\n",
            "Loss at step 900: 0.2419\n",
            "Training acc over epoch: 0.9351\n",
            "Validation Loss: 0.4183\n",
            "Testing acc over epoch: 0.8775\n",
            "Loss at step 0: 0.1278\n",
            "Loss at step 100: 0.3021\n",
            "Loss at step 200: 0.0575\n",
            "Loss at step 300: 0.1209\n",
            "Loss at step 400: 0.1129\n",
            "Loss at step 500: 0.1559\n",
            "Loss at step 600: 0.2026\n",
            "Loss at step 700: 0.0699\n",
            "Loss at step 800: 0.0449\n",
            "Loss at step 900: 0.1113\n",
            "Training acc over epoch: 0.9367\n",
            "Validation Loss: 0.3925\n",
            "Testing acc over epoch: 0.8846\n",
            "Loss at step 0: 0.1689\n",
            "Loss at step 100: 0.1891\n",
            "Loss at step 200: 0.0552\n",
            "Loss at step 300: 0.2349\n",
            "Loss at step 400: 0.2158\n",
            "Loss at step 500: 0.1547\n",
            "Loss at step 600: 0.1283\n",
            "Loss at step 700: 0.2550\n",
            "Loss at step 800: 0.2103\n",
            "Loss at step 900: 0.1123\n",
            "Training acc over epoch: 0.9395\n",
            "Validation Loss: 0.4055\n",
            "Testing acc over epoch: 0.8837\n",
            "Loss at step 0: 0.2165\n",
            "Loss at step 100: 0.2787\n",
            "Loss at step 200: 0.3368\n",
            "Loss at step 300: 0.1702\n",
            "Loss at step 400: 0.2046\n",
            "Loss at step 500: 0.2151\n",
            "Loss at step 600: 0.1406\n",
            "Loss at step 700: 0.2252\n",
            "Loss at step 800: 0.1310\n",
            "Loss at step 900: 0.2516\n",
            "Training acc over epoch: 0.9397\n",
            "Validation Loss: 0.4313\n",
            "Testing acc over epoch: 0.8802\n",
            "Loss at step 0: 0.1802\n",
            "Loss at step 100: 0.2422\n",
            "Loss at step 200: 0.1794\n",
            "Loss at step 300: 0.2549\n",
            "Loss at step 400: 0.1394\n",
            "Loss at step 500: 0.2301\n",
            "Loss at step 600: 0.1510\n",
            "Loss at step 700: 0.2564\n",
            "Loss at step 800: 0.0826\n",
            "Loss at step 900: 0.1647\n",
            "Training acc over epoch: 0.9398\n",
            "Validation Loss: 0.4204\n",
            "Testing acc over epoch: 0.8776\n",
            "Loss at step 0: 0.2093\n",
            "Loss at step 100: 0.2492\n",
            "Loss at step 200: 0.1791\n",
            "Loss at step 300: 0.1234\n",
            "Loss at step 400: 0.1194\n",
            "Loss at step 500: 0.2196\n",
            "Loss at step 600: 0.0794\n",
            "Loss at step 700: 0.1207\n",
            "Loss at step 800: 0.2219\n",
            "Loss at step 900: 0.1231\n",
            "Training acc over epoch: 0.9423\n",
            "Validation Loss: 0.4225\n",
            "Testing acc over epoch: 0.8865\n",
            "Loss at step 0: 0.1987\n",
            "Loss at step 100: 0.1625\n",
            "Loss at step 200: 0.1848\n",
            "Loss at step 300: 0.1472\n",
            "Loss at step 400: 0.3481\n",
            "Loss at step 500: 0.0911\n",
            "Loss at step 600: 0.1945\n",
            "Loss at step 700: 0.1276\n",
            "Loss at step 800: 0.1279\n",
            "Loss at step 900: 0.0998\n",
            "Training acc over epoch: 0.9437\n",
            "Validation Loss: 0.4299\n",
            "Testing acc over epoch: 0.8847\n",
            "Loss at step 0: 0.1182\n",
            "Loss at step 100: 0.1541\n",
            "Loss at step 200: 0.3435\n",
            "Loss at step 300: 0.1855\n",
            "Loss at step 400: 0.0799\n",
            "Loss at step 500: 0.1455\n",
            "Loss at step 600: 0.1174\n",
            "Loss at step 700: 0.2541\n",
            "Loss at step 800: 0.1296\n",
            "Loss at step 900: 0.1550\n",
            "Training acc over epoch: 0.9434\n",
            "Validation Loss: 0.4202\n",
            "Testing acc over epoch: 0.8858\n",
            "Loss at step 0: 0.1887\n",
            "Loss at step 100: 0.1409\n",
            "Loss at step 200: 0.1069\n",
            "Loss at step 300: 0.2262\n",
            "Loss at step 400: 0.0734\n",
            "Loss at step 500: 0.1681\n",
            "Loss at step 600: 0.1582\n",
            "Loss at step 700: 0.1251\n",
            "Loss at step 800: 0.1158\n",
            "Loss at step 900: 0.1123\n",
            "Training acc over epoch: 0.9443\n",
            "Validation Loss: 0.4274\n",
            "Testing acc over epoch: 0.8855\n",
            "Loss at step 0: 0.1942\n",
            "Loss at step 100: 0.2214\n",
            "Loss at step 200: 0.1268\n",
            "Loss at step 300: 0.0461\n",
            "Loss at step 400: 0.1103\n",
            "Loss at step 500: 0.1179\n",
            "Loss at step 600: 0.0456\n",
            "Loss at step 700: 0.1581\n",
            "Loss at step 800: 0.1498\n",
            "Loss at step 900: 0.1613\n",
            "Training acc over epoch: 0.9471\n",
            "Validation Loss: 0.4406\n",
            "Testing acc over epoch: 0.8809\n",
            "Loss at step 0: 0.3061\n",
            "Loss at step 100: 0.1567\n",
            "Loss at step 200: 0.1424\n",
            "Loss at step 300: 0.1301\n",
            "Loss at step 400: 0.1365\n",
            "Loss at step 500: 0.1725\n",
            "Loss at step 600: 0.1155\n",
            "Loss at step 700: 0.2395\n",
            "Loss at step 800: 0.0483\n",
            "Loss at step 900: 0.1391\n",
            "Training acc over epoch: 0.9459\n",
            "Validation Loss: 0.4536\n",
            "Testing acc over epoch: 0.8835\n",
            "Loss at step 0: 0.1178\n",
            "Loss at step 100: 0.0537\n",
            "Loss at step 200: 0.3464\n",
            "Loss at step 300: 0.0547\n",
            "Loss at step 400: 0.1248\n",
            "Loss at step 500: 0.1324\n",
            "Loss at step 600: 0.2168\n",
            "Loss at step 700: 0.1468\n",
            "Loss at step 800: 0.1559\n",
            "Loss at step 900: 0.1833\n",
            "Training acc over epoch: 0.9475\n",
            "Validation Loss: 0.4675\n",
            "Testing acc over epoch: 0.8814\n",
            "Loss at step 0: 0.1234\n",
            "Loss at step 100: 0.2381\n",
            "Loss at step 200: 0.1331\n",
            "Loss at step 300: 0.0871\n",
            "Loss at step 400: 0.0787\n",
            "Loss at step 500: 0.0683\n",
            "Loss at step 600: 0.1299\n",
            "Loss at step 700: 0.1059\n",
            "Loss at step 800: 0.1234\n",
            "Loss at step 900: 0.1186\n",
            "Training acc over epoch: 0.9474\n",
            "Validation Loss: 0.4814\n",
            "Testing acc over epoch: 0.8820\n",
            "Loss at step 0: 0.1097\n",
            "Loss at step 100: 0.2174\n",
            "Loss at step 200: 0.1406\n",
            "Loss at step 300: 0.1120\n",
            "Loss at step 400: 0.3095\n",
            "Loss at step 500: 0.1129\n",
            "Loss at step 600: 0.0742\n",
            "Loss at step 700: 0.1056\n",
            "Loss at step 800: 0.0624\n",
            "Loss at step 900: 0.1139\n",
            "Training acc over epoch: 0.9492\n",
            "Validation Loss: 0.4529\n",
            "Testing acc over epoch: 0.8881\n",
            "Loss at step 0: 0.1943\n",
            "Loss at step 100: 0.2252\n",
            "Loss at step 200: 0.0945\n",
            "Loss at step 300: 0.0663\n",
            "Loss at step 400: 0.0483\n",
            "Loss at step 500: 0.0727\n",
            "Loss at step 600: 0.0434\n",
            "Loss at step 700: 0.1550\n",
            "Loss at step 800: 0.1571\n",
            "Loss at step 900: 0.1361\n",
            "Training acc over epoch: 0.9501\n",
            "Validation Loss: 0.4624\n",
            "Testing acc over epoch: 0.8841\n",
            "Loss at step 0: 0.1219\n",
            "Loss at step 100: 0.1399\n",
            "Loss at step 200: 0.0728\n",
            "Loss at step 300: 0.0967\n",
            "Loss at step 400: 0.0652\n",
            "Loss at step 500: 0.0533\n",
            "Loss at step 600: 0.1540\n",
            "Loss at step 700: 0.1478\n",
            "Loss at step 800: 0.0611\n",
            "Loss at step 900: 0.1221\n",
            "Training acc over epoch: 0.9508\n",
            "Validation Loss: 0.4707\n",
            "Testing acc over epoch: 0.8834\n",
            "Loss at step 0: 0.0979\n",
            "Loss at step 100: 0.0615\n",
            "Loss at step 200: 0.1952\n",
            "Loss at step 300: 0.1910\n",
            "Loss at step 400: 0.1297\n",
            "Loss at step 500: 0.1437\n",
            "Loss at step 600: 0.0949\n",
            "Loss at step 700: 0.1209\n",
            "Loss at step 800: 0.2415\n",
            "Loss at step 900: 0.1307\n",
            "Training acc over epoch: 0.9523\n",
            "Validation Loss: 0.4835\n",
            "Testing acc over epoch: 0.8811\n",
            "Loss at step 0: 0.0911\n",
            "Loss at step 100: 0.1689\n",
            "Loss at step 200: 0.1495\n",
            "Loss at step 300: 0.2130\n",
            "Loss at step 400: 0.0352\n",
            "Loss at step 500: 0.1443\n",
            "Loss at step 600: 0.1045\n",
            "Loss at step 700: 0.1144\n",
            "Loss at step 800: 0.0864\n",
            "Loss at step 900: 0.1843\n",
            "Training acc over epoch: 0.9529\n",
            "Validation Loss: 0.4952\n",
            "Testing acc over epoch: 0.8826\n",
            "Loss at step 0: 0.0917\n",
            "Loss at step 100: 0.0677\n",
            "Loss at step 200: 0.1770\n",
            "Loss at step 300: 0.1033\n",
            "Loss at step 400: 0.1482\n",
            "Loss at step 500: 0.0461\n",
            "Loss at step 600: 0.1243\n",
            "Loss at step 700: 0.0908\n",
            "Loss at step 800: 0.1401\n",
            "Loss at step 900: 0.1685\n",
            "Training acc over epoch: 0.9513\n",
            "Validation Loss: 0.4948\n",
            "Testing acc over epoch: 0.8825\n"
          ]
        }
      ]
    },
    {
      "cell_type": "code",
      "source": [
        "def plot_metric(train_metric, val_metric, metric_name, title, ylim=5):\n",
        "  plt.title(title)\n",
        "  plt.ylim(0,ylim)\n",
        "  plt.plot(train_metric, color='blue', label=metric_name)\n",
        "  plt.plot(val_metric, color='green', label='val_' + metric_name)\n",
        "  plt.show()\n",
        "\n",
        "plot_metric(epoch_train_losses, epoch_val_losses,\"Loss\", \"Loss over epochs\")"
      ],
      "metadata": {
        "id": "LBdlmRX2Ay_O",
        "outputId": "58cba57c-466e-4b43-f1df-fd9831d5ac03",
        "colab": {
          "base_uri": "https://localhost:8080/",
          "height": 452
        }
      },
      "execution_count": 33,
      "outputs": [
        {
          "output_type": "display_data",
          "data": {
            "text/plain": [
              "<Figure size 640x480 with 1 Axes>"
            ],
            "image/png": "[encoded data removed]"
          },
          "metadata": {}
        }
      ]
    },
    {
      "cell_type": "markdown",
      "source": [
        "### **Distributed Training**"
      ],
      "metadata": {
        "id": "u2Z5yNDyH1Z6"
      }
    },
    {
      "cell_type": "code",
      "source": [
        "# just have to enclose strategy's scope eithin our model and define batch size per replica(gpu)\n",
        "strategy = tf.distribute.MirroredStrategy()\n",
        "print(\"Number of devices: {}\".format(strategy.num_replicas_in_sync))"
      ],
      "metadata": {
        "id": "lyFeqGNOH_K4",
        "outputId": "2ad519cb-9c5a-434e-fd14-e42db7bd29be",
        "colab": {
          "base_uri": "https://localhost:8080/"
        }
      },
      "execution_count": 34,
      "outputs": [
        {
          "output_type": "stream",
          "name": "stdout",
          "text": [
            "Number of devices: 1\n"
          ]
        }
      ]
    },
    {
      "cell_type": "code",
      "source": [
        "with strategy.scope():\n",
        "  model = tf.keras.Sequential([tf.keras.layers.Dense(1, input_shape=[1])])\n",
        "model.compile(loss=\"mse\", optimizer=\"sgd\")"
      ],
      "metadata": {
        "id": "PshVU22EJp2p"
      },
      "execution_count": null,
      "outputs": []
    },
    {
      "cell_type": "markdown",
      "source": [
        "Other Strategies are too complicated to understand. Will code when required\n"
      ],
      "metadata": {
        "id": "L0pd-qMQLYy7"
      }
    }
  ]
}